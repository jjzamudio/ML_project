{
 "cells": [
  {
   "cell_type": "code",
   "execution_count": 34,
   "metadata": {
    "collapsed": true
   },
   "outputs": [],
   "source": [
    "import pandas as pd\n",
    "import numpy as np\n",
    "import matplotlib.pyplot as plt\n",
    "%matplotlib inline"
   ]
  },
  {
   "cell_type": "code",
   "execution_count": 18,
   "metadata": {},
   "outputs": [],
   "source": [
    "folder_dir = \"data/\"\n",
    "date_range = [\"2012\",\"2013\",\"2014\",\"2015\",\"2016\",\"2017\"]"
   ]
  },
  {
   "cell_type": "code",
   "execution_count": 19,
   "metadata": {},
   "outputs": [
    {
     "data": {
      "text/html": [
       "<div>\n",
       "<style>\n",
       "    .dataframe thead tr:only-child th {\n",
       "        text-align: right;\n",
       "    }\n",
       "\n",
       "    .dataframe thead th {\n",
       "        text-align: left;\n",
       "    }\n",
       "\n",
       "    .dataframe tbody tr th {\n",
       "        vertical-align: top;\n",
       "    }\n",
       "</style>\n",
       "<table border=\"1\" class=\"dataframe\">\n",
       "  <thead>\n",
       "    <tr style=\"text-align: right;\">\n",
       "      <th></th>\n",
       "      <th>date</th>\n",
       "      <th>stadium</th>\n",
       "      <th>inning</th>\n",
       "      <th>side</th>\n",
       "      <th>pitcher</th>\n",
       "      <th>pitch_count</th>\n",
       "      <th>batter</th>\n",
       "      <th>balls</th>\n",
       "      <th>strikes</th>\n",
       "      <th>ay</th>\n",
       "      <th>...</th>\n",
       "      <th>break_length</th>\n",
       "      <th>y</th>\n",
       "      <th>x0</th>\n",
       "      <th>on_1b</th>\n",
       "      <th>on_2b</th>\n",
       "      <th>on_3b</th>\n",
       "      <th>umpcall</th>\n",
       "      <th>outcome</th>\n",
       "      <th>offense_score</th>\n",
       "      <th>defense_score</th>\n",
       "    </tr>\n",
       "  </thead>\n",
       "  <tbody>\n",
       "    <tr>\n",
       "      <th>0</th>\n",
       "      <td>2012-04-04</td>\n",
       "      <td>Marlins Park</td>\n",
       "      <td>1</td>\n",
       "      <td>top</td>\n",
       "      <td>johnsjo09</td>\n",
       "      <td>5</td>\n",
       "      <td>beltrca01</td>\n",
       "      <td>0</td>\n",
       "      <td>0</td>\n",
       "      <td>30.626</td>\n",
       "      <td>...</td>\n",
       "      <td>3.4</td>\n",
       "      <td>154.56</td>\n",
       "      <td>-1.902</td>\n",
       "      <td>NaN</td>\n",
       "      <td>NaN</td>\n",
       "      <td>NaN</td>\n",
       "      <td>X</td>\n",
       "      <td>Single</td>\n",
       "      <td>0</td>\n",
       "      <td>0</td>\n",
       "    </tr>\n",
       "    <tr>\n",
       "      <th>1</th>\n",
       "      <td>2012-04-04</td>\n",
       "      <td>Marlins Park</td>\n",
       "      <td>1</td>\n",
       "      <td>top</td>\n",
       "      <td>johnsjo09</td>\n",
       "      <td>6</td>\n",
       "      <td>hollima01</td>\n",
       "      <td>0</td>\n",
       "      <td>0</td>\n",
       "      <td>28.580</td>\n",
       "      <td>...</td>\n",
       "      <td>3.8</td>\n",
       "      <td>132.11</td>\n",
       "      <td>-2.052</td>\n",
       "      <td>beltrca01</td>\n",
       "      <td>NaN</td>\n",
       "      <td>NaN</td>\n",
       "      <td>S</td>\n",
       "      <td>NaN</td>\n",
       "      <td>0</td>\n",
       "      <td>0</td>\n",
       "    </tr>\n",
       "    <tr>\n",
       "      <th>2</th>\n",
       "      <td>2012-04-04</td>\n",
       "      <td>Marlins Park</td>\n",
       "      <td>1</td>\n",
       "      <td>top</td>\n",
       "      <td>johnsjo09</td>\n",
       "      <td>7</td>\n",
       "      <td>hollima01</td>\n",
       "      <td>0</td>\n",
       "      <td>1</td>\n",
       "      <td>31.294</td>\n",
       "      <td>...</td>\n",
       "      <td>3.7</td>\n",
       "      <td>125.20</td>\n",
       "      <td>-2.130</td>\n",
       "      <td>beltrca01</td>\n",
       "      <td>NaN</td>\n",
       "      <td>NaN</td>\n",
       "      <td>S</td>\n",
       "      <td>NaN</td>\n",
       "      <td>0</td>\n",
       "      <td>0</td>\n",
       "    </tr>\n",
       "    <tr>\n",
       "      <th>3</th>\n",
       "      <td>2012-04-04</td>\n",
       "      <td>Marlins Park</td>\n",
       "      <td>1</td>\n",
       "      <td>top</td>\n",
       "      <td>johnsjo09</td>\n",
       "      <td>8</td>\n",
       "      <td>hollima01</td>\n",
       "      <td>0</td>\n",
       "      <td>2</td>\n",
       "      <td>33.548</td>\n",
       "      <td>...</td>\n",
       "      <td>3.6</td>\n",
       "      <td>151.97</td>\n",
       "      <td>-2.100</td>\n",
       "      <td>beltrca01</td>\n",
       "      <td>NaN</td>\n",
       "      <td>NaN</td>\n",
       "      <td>B</td>\n",
       "      <td>NaN</td>\n",
       "      <td>0</td>\n",
       "      <td>0</td>\n",
       "    </tr>\n",
       "    <tr>\n",
       "      <th>4</th>\n",
       "      <td>2012-04-04</td>\n",
       "      <td>Marlins Park</td>\n",
       "      <td>1</td>\n",
       "      <td>top</td>\n",
       "      <td>johnsjo09</td>\n",
       "      <td>9</td>\n",
       "      <td>hollima01</td>\n",
       "      <td>1</td>\n",
       "      <td>2</td>\n",
       "      <td>24.925</td>\n",
       "      <td>...</td>\n",
       "      <td>7.1</td>\n",
       "      <td>144.20</td>\n",
       "      <td>-2.312</td>\n",
       "      <td>beltrca01</td>\n",
       "      <td>NaN</td>\n",
       "      <td>NaN</td>\n",
       "      <td>X</td>\n",
       "      <td>Flyout</td>\n",
       "      <td>0</td>\n",
       "      <td>0</td>\n",
       "    </tr>\n",
       "  </tbody>\n",
       "</table>\n",
       "<p>5 rows × 47 columns</p>\n",
       "</div>"
      ],
      "text/plain": [
       "         date       stadium  inning side    pitcher  pitch_count     batter  \\\n",
       "0  2012-04-04  Marlins Park       1  top  johnsjo09            5  beltrca01   \n",
       "1  2012-04-04  Marlins Park       1  top  johnsjo09            6  hollima01   \n",
       "2  2012-04-04  Marlins Park       1  top  johnsjo09            7  hollima01   \n",
       "3  2012-04-04  Marlins Park       1  top  johnsjo09            8  hollima01   \n",
       "4  2012-04-04  Marlins Park       1  top  johnsjo09            9  hollima01   \n",
       "\n",
       "   balls  strikes      ay      ...        break_length       y     x0  \\\n",
       "0      0        0  30.626      ...                 3.4  154.56 -1.902   \n",
       "1      0        0  28.580      ...                 3.8  132.11 -2.052   \n",
       "2      0        1  31.294      ...                 3.7  125.20 -2.130   \n",
       "3      0        2  33.548      ...                 3.6  151.97 -2.100   \n",
       "4      1        2  24.925      ...                 7.1  144.20 -2.312   \n",
       "\n",
       "       on_1b  on_2b  on_3b  umpcall  outcome  offense_score  defense_score  \n",
       "0        NaN    NaN    NaN        X   Single              0              0  \n",
       "1  beltrca01    NaN    NaN        S      NaN              0              0  \n",
       "2  beltrca01    NaN    NaN        S      NaN              0              0  \n",
       "3  beltrca01    NaN    NaN        B      NaN              0              0  \n",
       "4  beltrca01    NaN    NaN        X   Flyout              0              0  \n",
       "\n",
       "[5 rows x 47 columns]"
      ]
     },
     "execution_count": 19,
     "metadata": {},
     "output_type": "execute_result"
    }
   ],
   "source": [
    "for i in range(len(date_range)):\n",
    "    year = date_range[i]\n",
    "    data_path = \"MLB_\" + year + \"/MLB_PitchFX_\" + year + \"_RegularSeason.csv\"\n",
    "    year_data = pd.read_csv(filepath_or_buffer= folder_dir + data_path,\n",
    "                    header=0)\n",
    "    \n",
    "    if i == 0:\n",
    "        data = year_data\n",
    "    else:\n",
    "        data = pd.concat([data,year_data])\n",
    "        \n",
    "data.head()"
   ]
  },
  {
   "cell_type": "code",
   "execution_count": 20,
   "metadata": {},
   "outputs": [
    {
     "data": {
      "text/plain": [
       "(3902210, 47)"
      ]
     },
     "execution_count": 20,
     "metadata": {},
     "output_type": "execute_result"
    }
   ],
   "source": [
    "data.shape"
   ]
  },
  {
   "cell_type": "code",
   "execution_count": 22,
   "metadata": {},
   "outputs": [
    {
     "data": {
      "text/plain": [
       "array(['date', 'stadium', 'inning', 'side', 'pitcher', 'pitch_count',\n",
       "       'batter', 'balls', 'strikes', 'ay', 'px', 'ax', 'sz_bot', 'vz0',\n",
       "       'vy0', 'pfx_x', 'type_confidence', 'z0', 'tfs', 'pz', 'start_speed',\n",
       "       'az', 'zone', 'break_angle', 'spin_dir', 'end_speed', 'vx0',\n",
       "       'sz_top', 'nasty', 'descr', 'pfx_z', 'break_y', 'pitch_type',\n",
       "       'tfs_zulu', 'x', 'spin_rate', 'y0', 'break_length', 'y', 'x0',\n",
       "       'on_1b', 'on_2b', 'on_3b', 'umpcall', 'outcome', 'offense_score',\n",
       "       'defense_score'], dtype=object)"
      ]
     },
     "execution_count": 22,
     "metadata": {},
     "output_type": "execute_result"
    }
   ],
   "source": [
    "data.columns.values"
   ]
  },
  {
   "cell_type": "code",
   "execution_count": 38,
   "metadata": {},
   "outputs": [],
   "source": [
    "data = data.drop(['on_1b', 'on_2b', \"on_3b\"], axis = 1)"
   ]
  },
  {
   "cell_type": "code",
   "execution_count": 42,
   "metadata": {
    "scrolled": true
   },
   "outputs": [
    {
     "data": {
      "image/png": "[encoded data removed]",
      "text/plain": [
       "<matplotlib.figure.Figure at 0x11ed8d390>"
      ]
     },
     "metadata": {},
     "output_type": "display_data"
    }
   ],
   "source": [
    "_ = plt.hist(data.isnull().sum())"
   ]
  },
  {
   "cell_type": "code",
   "execution_count": 49,
   "metadata": {
    "scrolled": true
   },
   "outputs": [
    {
     "data": {
      "text/plain": [
       "date                     0\n",
       "stadium                  0\n",
       "inning                   0\n",
       "side                     0\n",
       "pitcher                313\n",
       "pitch_count              0\n",
       "batter                   5\n",
       "balls                    0\n",
       "strikes                  0\n",
       "ay                       0\n",
       "px                       0\n",
       "ax                       0\n",
       "sz_bot                   0\n",
       "vz0                      0\n",
       "vy0                      0\n",
       "pfx_x                    0\n",
       "type_confidence          0\n",
       "z0                       0\n",
       "tfs                     29\n",
       "pz                       0\n",
       "start_speed              0\n",
       "az                       0\n",
       "zone                     0\n",
       "break_angle              0\n",
       "spin_dir                 0\n",
       "end_speed                0\n",
       "vx0                      0\n",
       "sz_top                   0\n",
       "nasty                  317\n",
       "descr                    0\n",
       "pfx_z                    0\n",
       "break_y                  0\n",
       "pitch_type               0\n",
       "tfs_zulu                29\n",
       "x                        0\n",
       "spin_rate                0\n",
       "y0                       0\n",
       "break_length             0\n",
       "y                        0\n",
       "x0                       0\n",
       "umpcall                  0\n",
       "outcome            3187177\n",
       "offense_score            0\n",
       "defense_score            0\n",
       "dtype: int64"
      ]
     },
     "execution_count": 49,
     "metadata": {},
     "output_type": "execute_result"
    }
   ],
   "source": [
    "data.isnull().sum()"
   ]
  },
  {
   "cell_type": "code",
   "execution_count": null,
   "metadata": {
    "collapsed": true
   },
   "outputs": [],
   "source": []
  }
 ],
 "metadata": {
  "kernelspec": {
   "display_name": "Python 3",
   "language": "python",
   "name": "python3"
  },
  "language_info": {
   "codemirror_mode": {
    "name": "ipython",
    "version": 3
   },
   "file_extension": ".py",
   "mimetype": "text/x-python",
   "name": "python",
   "nbconvert_exporter": "python",
   "pygments_lexer": "ipython3",
   "version": "3.6.1"
  }
 },
 "nbformat": 4,
 "nbformat_minor": 2
}
