{
 "cells": [
  {
   "cell_type": "code",
   "execution_count": null,
   "metadata": {
    "collapsed": true
   },
   "outputs": [],
   "source": [
    "import pandas as pd\n",
    "import numpy as np\n",
    "import matplotlib.pyplot as plt\n",
    "%matplotlib inline\n",
    "\n",
    "from sklearn.linear_model import LogisticRegression\n",
    "import sklearn.metrics\n",
    "from sklearn.preprocessing import PolynomialFeatures"
   ]
  },
  {
   "cell_type": "code",
   "execution_count": null,
   "metadata": {
    "collapsed": true
   },
   "outputs": [],
   "source": [
    "folder_dir = '../data/'\n",
    "date_range = [\"2012\",\"2013\",\"2014\",\"2015\",\"2016\",\"2017\"]"
   ]
  },
  {
   "cell_type": "code",
   "execution_count": null,
   "metadata": {},
   "outputs": [],
   "source": [
    "for i in range(len(date_range)):\n",
    "    year = date_range[i]\n",
    "    data_path = \"MLB_\" + year + \"/MLB_PitchFX_\" + year + \"_RegularSeason.csv\"\n",
    "    year_data = pd.read_csv(filepath_or_buffer= folder_dir + data_path, header=0)\n",
    "    \n",
    "    if i == 0:\n",
    "        data = year_data\n",
    "    else:\n",
    "        data = pd.concat([data,year_data])\n",
    "\n",
    "data.head()"
   ]
  },
  {
   "cell_type": "code",
   "execution_count": null,
   "metadata": {},
   "outputs": [],
   "source": [
    "'''\n",
    "TODO:\n",
    "    -More exploratory data analysis\n",
    "    -Feature engineering/Clean data/select features\n",
    "    -Define target valuable   \n",
    "    \n",
    "'''"
   ]
  },
  {
   "cell_type": "code",
   "execution_count": null,
   "metadata": {},
   "outputs": [],
   "source": [
    "data = data.drop(['on_1b', 'on_2b', \"on_3b\",'y'], axis = 1)\n",
    "data.shape"
   ]
  },
  {
   "cell_type": "code",
   "execution_count": null,
   "metadata": {
    "scrolled": true
   },
   "outputs": [],
   "source": [
    "_ = plt.hist(data.isnull().sum())"
   ]
  },
  {
   "cell_type": "code",
   "execution_count": null,
   "metadata": {},
   "outputs": [],
   "source": [
    "print(len(data.columns.values))\n",
    "print(data.columns.values[0])\n",
    "data.columns.values"
   ]
  },
  {
   "cell_type": "code",
   "execution_count": null,
   "metadata": {
    "scrolled": true
   },
   "outputs": [],
   "source": [
    "data.isnull().sum()"
   ]
  },
  {
   "cell_type": "code",
   "execution_count": null,
   "metadata": {
    "scrolled": true
   },
   "outputs": [],
   "source": [
    "data.dtypes"
   ]
  },
  {
   "cell_type": "code",
   "execution_count": null,
   "metadata": {},
   "outputs": [],
   "source": [
    "g = data.columns.to_series().groupby(data.dtypes).groups\n",
    "dtype_groups = {k.name: v for k, v in g.items()}\n",
    "dtype_groups"
   ]
  },
  {
   "cell_type": "code",
   "execution_count": null,
   "metadata": {},
   "outputs": [],
   "source": [
    "dtype_groups[\"int64\"].values"
   ]
  },
  {
   "cell_type": "code",
   "execution_count": null,
   "metadata": {},
   "outputs": [],
   "source": [
    "dtype_groups[\"float64\"].values"
   ]
  },
  {
   "cell_type": "code",
   "execution_count": null,
   "metadata": {},
   "outputs": [],
   "source": [
    "dtype_groups[\"object\"].values"
   ]
  },
  {
   "cell_type": "code",
   "execution_count": null,
   "metadata": {
    "scrolled": true
   },
   "outputs": [],
   "source": [
    "#Plotting all Int64 typed features\n",
    "for i in range(len(dtype_groups[\"int64\"].values)):\n",
    "    plt.figure(i, \n",
    "               figsize=(10,5))\n",
    "    plt.title(dtype_groups[\"int64\"].values[i])\n",
    "    plt.hist(data[dtype_groups[\"int64\"].values[i]],\n",
    "             rwidth = 0.5)"
   ]
  },
  {
   "cell_type": "code",
   "execution_count": null,
   "metadata": {
    "scrolled": true
   },
   "outputs": [],
   "source": [
    "#Plotting all Float64 typed features\n",
    "for i in range(len(dtype_groups[\"float64\"].values)):\n",
    "    plt.figure(i, \n",
    "               figsize=(10,5))\n",
    "    plt.title(dtype_groups[\"float64\"].values[i])\n",
    "    plt.hist(data[dtype_groups[\"float64\"].values[i]].dropna(),\n",
    "             rwidth = 0.5)"
   ]
  },
  {
   "cell_type": "code",
   "execution_count": null,
   "metadata": {
    "scrolled": true
   },
   "outputs": [],
   "source": [
    "_ = data[dtype_groups[\"object\"][0]].value_counts().plot(kind=\"bar\",\n",
    "                                                    figsize=(20,10),\n",
    "                                                    title = \"Dates\")"
   ]
  },
  {
   "cell_type": "code",
   "execution_count": null,
   "metadata": {},
   "outputs": [],
   "source": [
    "#Plotting all Object typed features\n",
    "for i in range(len(dtype_groups[\"object\"].values)):\n",
    "    print(dtype_groups[\"object\"][i])\n",
    "    _ = data[dtype_groups[\"object\"][i]].value_counts().plot(kind=\"bar\",\n",
    "                                                       figsize=(20,10),\n",
    "                                                       title = dtype_groups[\"object\"][i])"
   ]
  },
  {
   "cell_type": "code",
   "execution_count": null,
   "metadata": {
    "collapsed": true
   },
   "outputs": [],
   "source": [
    "plt.hist(data['zone'])"
   ]
  },
  {
   "cell_type": "code",
   "execution_count": null,
   "metadata": {},
   "outputs": [],
   "source": [
    "plt.hist(data['spin_dir'])"
   ]
  },
  {
   "cell_type": "markdown",
   "metadata": {
    "collapsed": true
   },
   "source": [
    "### Rolling_mean feature"
   ]
  },
  {
   "cell_type": "code",
   "execution_count": null,
   "metadata": {},
   "outputs": [],
   "source": [
    "data = data.sample(n = 1000)\n",
    "data.shape"
   ]
  },
  {
   "cell_type": "code",
   "execution_count": null,
   "metadata": {
    "scrolled": true
   },
   "outputs": [],
   "source": [
    "data.loc[data['pitch_type'] == \"FF\"][\"start_speed\"]"
   ]
  },
  {
   "cell_type": "code",
   "execution_count": null,
   "metadata": {
    "scrolled": false
   },
   "outputs": [],
   "source": [
    "data.loc[data['pitch_type'] == \"FF\"].groupby('pitcher')['start_speed'].rolling(5).mean()"
   ]
  },
  {
   "cell_type": "markdown",
   "metadata": {},
   "source": [
    "## 1. Target variable\n",
    "We classify a pitch as good if it induces a swinging strike, a called strike, a foul, or if it generates a\n",
    "ball in play that is converted to an out"
   ]
  },
  {
   "cell_type": "code",
   "execution_count": null,
   "metadata": {},
   "outputs": [],
   "source": [
    "data.outcome.unique()"
   ]
  },
  {
   "cell_type": "code",
   "execution_count": null,
   "metadata": {},
   "outputs": [],
   "source": [
    "data.umpcall.unique()"
   ]
  },
  {
   "cell_type": "code",
   "execution_count": null,
   "metadata": {},
   "outputs": [],
   "source": [
    "data.descr.unique()"
   ]
  },
  {
   "cell_type": "code",
   "execution_count": null,
   "metadata": {
    "collapsed": true
   },
   "outputs": [],
   "source": [
    "#Using descr feature to define good pitch\n",
    "g_outcomes=['Foul Tip','Swinging Strike','In play, out(s)', 'Called Strike', 'Foul','Foul (Runner Going)','Foul Bunt',\n",
    "       'Swinging Strike (Blocked)', 'Missed Bunt' ]\n",
    "\n",
    "#Using outcome feature to use more detailed descriptions (eg: lineout vs groundout). I think this approach is better\n",
    "g_outcomes2=['Flyout', 'Fly Out','Groundout','Pop Out','Forceout','Double Play','Grounded into DP','Fielders Choice','Fielders Choice Out', \n",
    "             'Bunt Groundout','Bunt Pop Out','Sac Fly DP','Bunt Lineout','Foul']"
   ]
  },
  {
   "cell_type": "code",
   "execution_count": null,
   "metadata": {},
   "outputs": [],
   "source": [
    "#Create target feature\n",
    "data['y']=np.where((data['outcome'].isin(g_outcomes2)) | (data['umpcall']=='S'),1,0)\n",
    "a=plt.hist(data['y'])"
   ]
  },
  {
   "cell_type": "code",
   "execution_count": null,
   "metadata": {},
   "outputs": [],
   "source": [
    "data.y.unique(), data.y.isnull().any()"
   ]
  },
  {
   "cell_type": "code",
   "execution_count": null,
   "metadata": {},
   "outputs": [],
   "source": [
    "data.columns"
   ]
  },
  {
   "cell_type": "markdown",
   "metadata": {},
   "source": [
    "## 2. Divide in Train (2012-2106) and Test (2017)"
   ]
  },
  {
   "cell_type": "code",
   "execution_count": null,
   "metadata": {
    "collapsed": true
   },
   "outputs": [],
   "source": [
    "#Drop columns we´re not going to use\n",
    "data['year']=data['date'].str.slice(0,4)\n",
    "\n",
    "features=['umpcall', 'outcome','start_speed','pfx_x','pfx_z','px','pz','break_y','break_angle','break_length','pitch_type',\n",
    "         'spin_dir','nasty','pitch_count','descr','y','year','zone','strikes','balls','pitcher','pitch_type']\n",
    "baseline_features=['start_speed','px','pz','year','y']\n",
    "\n",
    "data=data[features]\n",
    "data_base=data[baseline_features]"
   ]
  },
  {
   "cell_type": "code",
   "execution_count": null,
   "metadata": {
    "collapsed": true
   },
   "outputs": [],
   "source": [
    "#data_path = \"MLB_\" + year + \"/MLB_PitchFX_\" + year + \"_RegularSeason.csv\"\n",
    "#year_data = pd.read_csv(filepath_or_buffer= folder_dir + data_path, header=0)\n",
    "save_path=folder_dir+'data_clean.csv'\n",
    "data.to_csv(save_path) "
   ]
  },
  {
   "cell_type": "code",
   "execution_count": null,
   "metadata": {},
   "outputs": [],
   "source": [
    "#data = data.drop(['on_1b', 'on_2b', \"on_3b\"], axis = 1)\n",
    "X_train=data_base[data_base['year']!='2017']\n",
    "y_train=X_train['y']\n",
    "X_train=X_train.drop(['y','year'],axis=1)\n",
    "\n",
    "X_test=data_base[data_base['year']=='2017']\n",
    "y_test=X_test['y']\n",
    "X_test=X_test.drop(['y','year'],axis=1)\n",
    "\n",
    "X_train.head()"
   ]
  },
  {
   "cell_type": "code",
   "execution_count": null,
   "metadata": {},
   "outputs": [],
   "source": [
    "X_train.shape"
   ]
  },
  {
   "cell_type": "markdown",
   "metadata": {},
   "source": [
    "## 3. Baseline with Logistic Regression"
   ]
  },
  {
   "cell_type": "code",
   "execution_count": null,
   "metadata": {},
   "outputs": [],
   "source": [
    "poly = PolynomialFeatures(interaction_only=True, include_bias=False)\n",
    "poly.fit_transform(X_train)\n",
    "poly.fit_transform(X_test)"
   ]
  },
  {
   "cell_type": "code",
   "execution_count": null,
   "metadata": {},
   "outputs": [],
   "source": [
    "X_train.shape, X_test.shape"
   ]
  },
  {
   "cell_type": "code",
   "execution_count": null,
   "metadata": {},
   "outputs": [],
   "source": [
    "baseline=LogisticRegression()\n",
    "baseline.fit(X_train,y_train)"
   ]
  },
  {
   "cell_type": "code",
   "execution_count": null,
   "metadata": {},
   "outputs": [],
   "source": [
    "#print(list(zip(list(X_train.columns),list(baseline.coef_[0]))))\n",
    "baseline.coef_"
   ]
  },
  {
   "cell_type": "code",
   "execution_count": null,
   "metadata": {},
   "outputs": [],
   "source": [
    "probs=baseline.predict_proba(X_test)[:,1]\n",
    "preds=baseline.predict(X_test)\n",
    "baseline_loss=sklearn.metrics.log_loss(y_test,probs)\n",
    "baseline_acc=sklearn.metrics.accuracy_score(y_test,preds)\n",
    "majority_class=np.amax(y_test.value_counts(normalize=True))\n",
    "\n",
    "print('%s: %0.2f, %s: %0.2f, %s: %0.2f '\n",
    "      %('Baseline accuracy',baseline_acc,'Baseline log loss', baseline_loss,'Majority class',majority_class))"
   ]
  },
  {
   "cell_type": "code",
   "execution_count": null,
   "metadata": {
    "collapsed": true
   },
   "outputs": [],
   "source": []
  },
  {
   "cell_type": "code",
   "execution_count": null,
   "metadata": {
    "collapsed": true
   },
   "outputs": [],
   "source": []
  },
  {
   "cell_type": "code",
   "execution_count": null,
   "metadata": {
    "collapsed": true
   },
   "outputs": [],
   "source": []
  },
  {
   "cell_type": "code",
   "execution_count": null,
   "metadata": {
    "collapsed": true
   },
   "outputs": [],
   "source": []
  }
 ],
 "metadata": {
  "kernelspec": {
   "display_name": "Python 3",
   "language": "python",
   "name": "python3"
  },
  "language_info": {
   "codemirror_mode": {
    "name": "ipython",
    "version": 3
   },
   "file_extension": ".py",
   "mimetype": "text/x-python",
   "name": "python",
   "nbconvert_exporter": "python",
   "pygments_lexer": "ipython3",
   "version": "3.6.1"
  }
 },
 "nbformat": 4,
 "nbformat_minor": 2
}
