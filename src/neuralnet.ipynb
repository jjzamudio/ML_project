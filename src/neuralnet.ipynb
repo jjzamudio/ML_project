{
 "cells": [
  {
   "cell_type": "code",
   "execution_count": 1,
   "metadata": {
    "collapsed": true
   },
   "outputs": [],
   "source": [
    "import numpy as np\n",
    "import pandas as pd"
   ]
  },
  {
   "cell_type": "code",
   "execution_count": 41,
   "metadata": {},
   "outputs": [],
   "source": [
    "from keras.models import Sequential\n",
    "from keras.layers import Dense\n",
    "from keras.layers import Dropout"
   ]
  },
  {
   "cell_type": "code",
   "execution_count": 3,
   "metadata": {
    "collapsed": true
   },
   "outputs": [],
   "source": [
    "np.random.seed(7)"
   ]
  },
  {
   "cell_type": "code",
   "execution_count": 4,
   "metadata": {
    "collapsed": true
   },
   "outputs": [],
   "source": [
    "folder_dir = '../data/'\n",
    "data_path = \"data_clean.csv\"\n",
    "data = pd.read_csv(filepath_or_buffer= folder_dir + data_path, header=0)\n",
    "data=data.drop('Unnamed: 0',axis=1)"
   ]
  },
  {
   "cell_type": "code",
   "execution_count": 5,
   "metadata": {},
   "outputs": [
    {
     "data": {
      "text/plain": [
       "(3700449, 37)"
      ]
     },
     "execution_count": 5,
     "metadata": {},
     "output_type": "execute_result"
    }
   ],
   "source": [
    "data.shape"
   ]
  },
  {
   "cell_type": "code",
   "execution_count": 6,
   "metadata": {},
   "outputs": [
    {
     "data": {
      "text/plain": [
       "Index(['date', 'umpcall', 'outcome', 'start_speed', 'pfx_x', 'pfx_z', 'px',\n",
       "       'pz', 'break_y', 'break_angle', 'break_length', 'pitch_type',\n",
       "       'spin_dir', 'nasty', 'pitch_count', 'descr', 'y', 'year', 'count_b_p',\n",
       "       'strikes', 'balls', 'pitcher', 'pitch_type.1', 'rolling_start_speed',\n",
       "       'long_rolling_start_speed', 'zone_1', 'zone_2', 'zone_3', 'zone_4',\n",
       "       'zone_5', 'zone_6', 'zone_7', 'zone_8', 'zone_9', 'zone_11', 'zone_12',\n",
       "       'zone_13'],\n",
       "      dtype='object')"
      ]
     },
     "execution_count": 6,
     "metadata": {},
     "output_type": "execute_result"
    }
   ],
   "source": [
    "data.columns"
   ]
  },
  {
   "cell_type": "code",
   "execution_count": 7,
   "metadata": {
    "collapsed": true
   },
   "outputs": [],
   "source": [
    "data['dist']=np.sqrt(data['px']**2+data['pz']**2)\n",
    "data['speed_diff']=data['rolling_start_speed']-data['long_rolling_start_speed']"
   ]
  },
  {
   "cell_type": "code",
   "execution_count": 8,
   "metadata": {
    "collapsed": true
   },
   "outputs": [],
   "source": [
    "pitch_types=pd.get_dummies(data['pitch_type'],prefix='pitch_type')\n",
    "data=pd.concat([data,pitch_types],axis=1)\n",
    "pitch_types=0"
   ]
  },
  {
   "cell_type": "code",
   "execution_count": 11,
   "metadata": {
    "collapsed": true
   },
   "outputs": [],
   "source": [
    "# model_feats=['px','pz','pfx_x','pfx_z','start_speed',\n",
    "#              'spin_dir','pitch_count','balls','strikes','date',\n",
    "#              'y','rolling_start_speed']\n",
    "\n",
    "model_feats=['px','pz','pfx_x','pfx_z','start_speed','spin_dir',\n",
    "             'pitch_count','balls','strikes','date',\n",
    "             'y','speed_diff','dist','pitch_type_CH', \n",
    "             'pitch_type_CU','pitch_type_FC', 'pitch_type_FF', \n",
    "             'pitch_type_FS', 'pitch_type_FT', 'pitch_type_KC', \n",
    "             'pitch_type_SI', 'pitch_type_SL']\n",
    "\n",
    "# model_feats=['px','pz','pfx_x','pfx_z','y','strikes','date']"
   ]
  },
  {
   "cell_type": "code",
   "execution_count": 12,
   "metadata": {},
   "outputs": [],
   "source": [
    "import datetime\n",
    "\n",
    "data[\"date\"] = pd.to_datetime(data[\"date\"])\n",
    "\n",
    "start = data[\"date\"].searchsorted(datetime.datetime(2012, 1, 1))[0]\n",
    "#start\n",
    "end = data[\"date\"].searchsorted(datetime.datetime(2016, 1, 1))[0] - 1\n",
    "#end\n",
    "\n",
    "X_train = data[model_feats].loc[start:end]\n",
    "y_train=X_train['y']\n",
    "X_train=X_train.drop(['y','date'],axis=1)\n",
    "\n",
    "X_test=data[model_feats][end:]\n",
    "y_test=X_test['y']\n",
    "X_test=X_test.drop(['y','date'],axis=1)\n",
    "data=0"
   ]
  },
  {
   "cell_type": "markdown",
   "metadata": {},
   "source": [
    "# Fully Connected Neural Net"
   ]
  },
  {
   "cell_type": "code",
   "execution_count": 19,
   "metadata": {},
   "outputs": [
    {
     "data": {
      "text/plain": [
       "(3221706, 20)"
      ]
     },
     "execution_count": 19,
     "metadata": {},
     "output_type": "execute_result"
    }
   ],
   "source": [
    "X_train.shape"
   ]
  },
  {
   "cell_type": "code",
   "execution_count": 20,
   "metadata": {},
   "outputs": [
    {
     "data": {
      "text/plain": [
       "20"
      ]
     },
     "execution_count": 20,
     "metadata": {},
     "output_type": "execute_result"
    }
   ],
   "source": [
    "X_train.shape[1]"
   ]
  },
  {
   "cell_type": "code",
   "execution_count": 14,
   "metadata": {},
   "outputs": [
    {
     "data": {
      "text/plain": [
       "22"
      ]
     },
     "execution_count": 14,
     "metadata": {},
     "output_type": "execute_result"
    }
   ],
   "source": [
    "len(model_feats)"
   ]
  },
  {
   "cell_type": "code",
   "execution_count": 30,
   "metadata": {
    "collapsed": true
   },
   "outputs": [],
   "source": [
    "input_dim = X_train.shape[1]"
   ]
  },
  {
   "cell_type": "code",
   "execution_count": 54,
   "metadata": {},
   "outputs": [],
   "source": [
    "model = Sequential()\n",
    "model.add(Dense(30, input_dim=input_dim, activation='relu'))\n",
    "#model.add(Dropout(rate = 0.1, noise_shape=None, seed=None))\n",
    "model.add(Dense(20, activation='relu'))\n",
    "#model.add(Dropout(rate = 0.1, noise_shape=None, seed=None))\n",
    "model.add(Dense(20, activation='relu'))\n",
    "model.add(Dense(1, activation='sigmoid'))"
   ]
  },
  {
   "cell_type": "code",
   "execution_count": 55,
   "metadata": {
    "collapsed": true
   },
   "outputs": [],
   "source": [
    "model.compile(loss='binary_crossentropy', \n",
    "              optimizer='adam', \n",
    "              metrics=['accuracy'])"
   ]
  },
  {
   "cell_type": "code",
   "execution_count": 56,
   "metadata": {
    "scrolled": true
   },
   "outputs": [
    {
     "name": "stdout",
     "output_type": "stream",
     "text": [
      "Epoch 1/50\n",
      "3221706/3221706 [==============================] - 92s 29us/step - loss: 0.5131 - acc: 0.7522\n",
      "Epoch 2/50\n",
      "3221706/3221706 [==============================] - 85s 26us/step - loss: 0.4795 - acc: 0.7807\n",
      "Epoch 3/50\n",
      "3221706/3221706 [==============================] - 87s 27us/step - loss: 0.4767 - acc: 0.7823\n",
      "Epoch 4/50\n",
      "3221706/3221706 [==============================] - 80s 25us/step - loss: 0.4753 - acc: 0.7831\n",
      "Epoch 5/50\n",
      "3221706/3221706 [==============================] - 83s 26us/step - loss: 0.4745 - acc: 0.7834\n",
      "Epoch 6/50\n",
      "3221706/3221706 [==============================] - 83s 26us/step - loss: 0.4740 - acc: 0.7837\n",
      "Epoch 7/50\n",
      "3221706/3221706 [==============================] - 85s 26us/step - loss: 0.4735 - acc: 0.7841\n",
      "Epoch 8/50\n",
      "3221706/3221706 [==============================] - 91s 28us/step - loss: 0.4732 - acc: 0.7844\n",
      "Epoch 9/50\n",
      "3221706/3221706 [==============================] - 91s 28us/step - loss: 0.4730 - acc: 0.7843\n",
      "Epoch 10/50\n",
      "3221706/3221706 [==============================] - 89s 28us/step - loss: 0.4728 - acc: 0.7844\n",
      "Epoch 11/50\n",
      "3221706/3221706 [==============================] - 87s 27us/step - loss: 0.4726 - acc: 0.7848\n",
      "Epoch 12/50\n",
      "3221706/3221706 [==============================] - 90s 28us/step - loss: 0.4724 - acc: 0.7849\n",
      "Epoch 13/50\n",
      "3221706/3221706 [==============================] - 90s 28us/step - loss: 0.4723 - acc: 0.7849\n",
      "Epoch 14/50\n",
      "3221706/3221706 [==============================] - 88s 27us/step - loss: 0.4721 - acc: 0.7850\n",
      "Epoch 15/50\n",
      "3221706/3221706 [==============================] - 88s 27us/step - loss: 0.4719 - acc: 0.7851\n",
      "Epoch 16/50\n",
      "3221706/3221706 [==============================] - 87s 27us/step - loss: 0.4718 - acc: 0.7854\n",
      "Epoch 17/50\n",
      "3221706/3221706 [==============================] - 91s 28us/step - loss: 0.4716 - acc: 0.7855\n",
      "Epoch 18/50\n",
      "3221706/3221706 [==============================] - 88s 27us/step - loss: 0.4716 - acc: 0.7854\n",
      "Epoch 19/50\n",
      "3221706/3221706 [==============================] - 86s 27us/step - loss: 0.4714 - acc: 0.7854\n",
      "Epoch 20/50\n",
      "3221706/3221706 [==============================] - 89s 28us/step - loss: 0.4713 - acc: 0.7855\n",
      "Epoch 21/50\n",
      "3221706/3221706 [==============================] - 84s 26us/step - loss: 0.4713 - acc: 0.7856\n",
      "Epoch 22/50\n",
      "3221706/3221706 [==============================] - 78s 24us/step - loss: 0.4712 - acc: 0.7857\n",
      "Epoch 23/50\n",
      "3221706/3221706 [==============================] - 81s 25us/step - loss: 0.4712 - acc: 0.7856\n",
      "Epoch 24/50\n",
      "3221706/3221706 [==============================] - 79s 25us/step - loss: 0.4711 - acc: 0.7857\n",
      "Epoch 25/50\n",
      "3221706/3221706 [==============================] - 79s 25us/step - loss: 0.4710 - acc: 0.7857\n",
      "Epoch 26/50\n",
      "3221706/3221706 [==============================] - 81s 25us/step - loss: 0.4710 - acc: 0.7857\n",
      "Epoch 27/50\n",
      "3221706/3221706 [==============================] - 83s 26us/step - loss: 0.4710 - acc: 0.7857\n",
      "Epoch 28/50\n",
      "3221706/3221706 [==============================] - 83s 26us/step - loss: 0.4709 - acc: 0.7857\n",
      "Epoch 29/50\n",
      "3221706/3221706 [==============================] - 80s 25us/step - loss: 0.4708 - acc: 0.7860\n",
      "Epoch 30/50\n",
      "3221706/3221706 [==============================] - 83s 26us/step - loss: 0.4707 - acc: 0.7859\n",
      "Epoch 31/50\n",
      "3221706/3221706 [==============================] - 81s 25us/step - loss: 0.4707 - acc: 0.7860\n",
      "Epoch 32/50\n",
      "3221706/3221706 [==============================] - 84s 26us/step - loss: 0.4707 - acc: 0.7859\n",
      "Epoch 33/50\n",
      "3221706/3221706 [==============================] - 82s 26us/step - loss: 0.4705 - acc: 0.7861\n",
      "Epoch 34/50\n",
      "3221706/3221706 [==============================] - 82s 25us/step - loss: 0.4706 - acc: 0.7860\n",
      "Epoch 35/50\n",
      "3221706/3221706 [==============================] - 78s 24us/step - loss: 0.4706 - acc: 0.7861\n",
      "Epoch 36/50\n",
      "3221706/3221706 [==============================] - 80s 25us/step - loss: 0.4706 - acc: 0.7861\n",
      "Epoch 37/50\n",
      "3221706/3221706 [==============================] - 81s 25us/step - loss: 0.4705 - acc: 0.7861\n",
      "Epoch 38/50\n",
      "3221706/3221706 [==============================] - 82s 26us/step - loss: 0.4705 - acc: 0.7861\n",
      "Epoch 39/50\n",
      "3221706/3221706 [==============================] - 79s 25us/step - loss: 0.4704 - acc: 0.7862\n",
      "Epoch 40/50\n",
      "3221706/3221706 [==============================] - 84s 26us/step - loss: 0.4703 - acc: 0.7862\n",
      "Epoch 41/50\n",
      "3221706/3221706 [==============================] - 81s 25us/step - loss: 0.4704 - acc: 0.7860\n",
      "Epoch 42/50\n",
      "3221706/3221706 [==============================] - 80s 25us/step - loss: 0.4704 - acc: 0.7861\n",
      "Epoch 43/50\n",
      "3221706/3221706 [==============================] - 82s 25us/step - loss: 0.4702 - acc: 0.7861\n",
      "Epoch 44/50\n",
      "3221706/3221706 [==============================] - 82s 25us/step - loss: 0.4702 - acc: 0.7862\n",
      "Epoch 45/50\n",
      "3221706/3221706 [==============================] - 81s 25us/step - loss: 0.4702 - acc: 0.7863\n",
      "Epoch 46/50\n",
      "3221706/3221706 [==============================] - 78s 24us/step - loss: 0.4702 - acc: 0.7863\n",
      "Epoch 47/50\n",
      "3221706/3221706 [==============================] - 81s 25us/step - loss: 0.4701 - acc: 0.7863\n",
      "Epoch 48/50\n",
      "3221706/3221706 [==============================] - 79s 25us/step - loss: 0.4702 - acc: 0.7862\n",
      "Epoch 49/50\n",
      "3221706/3221706 [==============================] - 79s 24us/step - loss: 0.4702 - acc: 0.7863\n",
      "Epoch 50/50\n",
      "3221706/3221706 [==============================] - 79s 25us/step - loss: 0.4701 - acc: 0.7862\n"
     ]
    },
    {
     "data": {
      "text/plain": [
       "<keras.callbacks.History at 0x182c0539e8>"
      ]
     },
     "execution_count": 56,
     "metadata": {},
     "output_type": "execute_result"
    }
   ],
   "source": [
    "model.fit(x = X_train, \n",
    "          y = y_train, \n",
    "          epochs=50, \n",
    "          batch_size=50)"
   ]
  },
  {
   "cell_type": "code",
   "execution_count": 57,
   "metadata": {},
   "outputs": [
    {
     "name": "stdout",
     "output_type": "stream",
     "text": [
      "478744/478744 [==============================] - 10s 20us/step\n",
      "\n",
      "acc: 78.84%\n"
     ]
    }
   ],
   "source": [
    "scores = model.evaluate(X_test, y_test)\n",
    "print(\"\\n%s: %.2f%%\" % (model.metrics_names[1], scores[1]*100))"
   ]
  },
  {
   "cell_type": "markdown",
   "metadata": {},
   "source": [
    "# Neural Net 2"
   ]
  },
  {
   "cell_type": "code",
   "execution_count": 54,
   "metadata": {
    "collapsed": true
   },
   "outputs": [],
   "source": [
    "model2 = Sequential()\n",
    "model2.add(Dense(30, input_dim=input_dim, activation='relu'))\n",
    "#model.add(Dropout(rate = 0.1, noise_shape=None, seed=None))\n",
    "model2.add(Dense(30, activation='relu'))\n",
    "#model.add(Dropout(rate = 0.1, noise_shape=None, seed=None))\n",
    "model2.add(Dense(20, activation='relu'))\n",
    "model2.add(Dense(1, activation='sigmoid'))"
   ]
  },
  {
   "cell_type": "code",
   "execution_count": 55,
   "metadata": {
    "collapsed": true
   },
   "outputs": [],
   "source": [
    "model2.compile(loss='binary_crossentropy', \n",
    "              optimizer='adam', \n",
    "              metrics=['accuracy'])"
   ]
  },
  {
   "cell_type": "code",
   "execution_count": 56,
   "metadata": {
    "scrolled": true
   },
   "outputs": [
    {
     "name": "stdout",
     "output_type": "stream",
     "text": [
      "Epoch 1/50\n",
      "3221706/3221706 [==============================] - 92s 29us/step - loss: 0.5131 - acc: 0.7522\n",
      "Epoch 2/50\n",
      "3221706/3221706 [==============================] - 85s 26us/step - loss: 0.4795 - acc: 0.7807\n",
      "Epoch 3/50\n",
      "3221706/3221706 [==============================] - 87s 27us/step - loss: 0.4767 - acc: 0.7823\n",
      "Epoch 4/50\n",
      "3221706/3221706 [==============================] - 80s 25us/step - loss: 0.4753 - acc: 0.7831\n",
      "Epoch 5/50\n",
      "3221706/3221706 [==============================] - 83s 26us/step - loss: 0.4745 - acc: 0.7834\n",
      "Epoch 6/50\n",
      "3221706/3221706 [==============================] - 83s 26us/step - loss: 0.4740 - acc: 0.7837\n",
      "Epoch 7/50\n",
      "3221706/3221706 [==============================] - 85s 26us/step - loss: 0.4735 - acc: 0.7841\n",
      "Epoch 8/50\n",
      "3221706/3221706 [==============================] - 91s 28us/step - loss: 0.4732 - acc: 0.7844\n",
      "Epoch 9/50\n",
      "3221706/3221706 [==============================] - 91s 28us/step - loss: 0.4730 - acc: 0.7843\n",
      "Epoch 10/50\n",
      "3221706/3221706 [==============================] - 89s 28us/step - loss: 0.4728 - acc: 0.7844\n",
      "Epoch 11/50\n",
      "3221706/3221706 [==============================] - 87s 27us/step - loss: 0.4726 - acc: 0.7848\n",
      "Epoch 12/50\n",
      "3221706/3221706 [==============================] - 90s 28us/step - loss: 0.4724 - acc: 0.7849\n",
      "Epoch 13/50\n",
      "3221706/3221706 [==============================] - 90s 28us/step - loss: 0.4723 - acc: 0.7849\n",
      "Epoch 14/50\n",
      "3221706/3221706 [==============================] - 88s 27us/step - loss: 0.4721 - acc: 0.7850\n",
      "Epoch 15/50\n",
      "3221706/3221706 [==============================] - 88s 27us/step - loss: 0.4719 - acc: 0.7851\n",
      "Epoch 16/50\n",
      "3221706/3221706 [==============================] - 87s 27us/step - loss: 0.4718 - acc: 0.7854\n",
      "Epoch 17/50\n",
      "3221706/3221706 [==============================] - 91s 28us/step - loss: 0.4716 - acc: 0.7855\n",
      "Epoch 18/50\n",
      "3221706/3221706 [==============================] - 88s 27us/step - loss: 0.4716 - acc: 0.7854\n",
      "Epoch 19/50\n",
      "3221706/3221706 [==============================] - 86s 27us/step - loss: 0.4714 - acc: 0.7854\n",
      "Epoch 20/50\n",
      "3221706/3221706 [==============================] - 89s 28us/step - loss: 0.4713 - acc: 0.7855\n",
      "Epoch 21/50\n",
      "3221706/3221706 [==============================] - 84s 26us/step - loss: 0.4713 - acc: 0.7856\n",
      "Epoch 22/50\n",
      "3221706/3221706 [==============================] - 78s 24us/step - loss: 0.4712 - acc: 0.7857\n",
      "Epoch 23/50\n",
      "3221706/3221706 [==============================] - 81s 25us/step - loss: 0.4712 - acc: 0.7856\n",
      "Epoch 24/50\n",
      "3221706/3221706 [==============================] - 79s 25us/step - loss: 0.4711 - acc: 0.7857\n",
      "Epoch 25/50\n",
      "3221706/3221706 [==============================] - 79s 25us/step - loss: 0.4710 - acc: 0.7857\n",
      "Epoch 26/50\n",
      "3221706/3221706 [==============================] - 81s 25us/step - loss: 0.4710 - acc: 0.7857\n",
      "Epoch 27/50\n",
      "3221706/3221706 [==============================] - 83s 26us/step - loss: 0.4710 - acc: 0.7857\n",
      "Epoch 28/50\n",
      "3221706/3221706 [==============================] - 83s 26us/step - loss: 0.4709 - acc: 0.7857\n",
      "Epoch 29/50\n",
      "3221706/3221706 [==============================] - 80s 25us/step - loss: 0.4708 - acc: 0.7860\n",
      "Epoch 30/50\n",
      "3221706/3221706 [==============================] - 83s 26us/step - loss: 0.4707 - acc: 0.7859\n",
      "Epoch 31/50\n",
      "3221706/3221706 [==============================] - 81s 25us/step - loss: 0.4707 - acc: 0.7860\n",
      "Epoch 32/50\n",
      "3221706/3221706 [==============================] - 84s 26us/step - loss: 0.4707 - acc: 0.7859\n",
      "Epoch 33/50\n",
      "3221706/3221706 [==============================] - 82s 26us/step - loss: 0.4705 - acc: 0.7861\n",
      "Epoch 34/50\n",
      "3221706/3221706 [==============================] - 82s 25us/step - loss: 0.4706 - acc: 0.7860\n",
      "Epoch 35/50\n",
      "3221706/3221706 [==============================] - 78s 24us/step - loss: 0.4706 - acc: 0.7861\n",
      "Epoch 36/50\n",
      "3221706/3221706 [==============================] - 80s 25us/step - loss: 0.4706 - acc: 0.7861\n",
      "Epoch 37/50\n",
      "3221706/3221706 [==============================] - 81s 25us/step - loss: 0.4705 - acc: 0.7861\n",
      "Epoch 38/50\n",
      "3221706/3221706 [==============================] - 82s 26us/step - loss: 0.4705 - acc: 0.7861\n",
      "Epoch 39/50\n",
      "3221706/3221706 [==============================] - 79s 25us/step - loss: 0.4704 - acc: 0.7862\n",
      "Epoch 40/50\n",
      "3221706/3221706 [==============================] - 84s 26us/step - loss: 0.4703 - acc: 0.7862\n",
      "Epoch 41/50\n",
      "3221706/3221706 [==============================] - 81s 25us/step - loss: 0.4704 - acc: 0.7860\n",
      "Epoch 42/50\n",
      "3221706/3221706 [==============================] - 80s 25us/step - loss: 0.4704 - acc: 0.7861\n",
      "Epoch 43/50\n",
      "3221706/3221706 [==============================] - 82s 25us/step - loss: 0.4702 - acc: 0.7861\n",
      "Epoch 44/50\n",
      "3221706/3221706 [==============================] - 82s 25us/step - loss: 0.4702 - acc: 0.7862\n",
      "Epoch 45/50\n",
      "3221706/3221706 [==============================] - 81s 25us/step - loss: 0.4702 - acc: 0.7863\n",
      "Epoch 46/50\n",
      "3221706/3221706 [==============================] - 78s 24us/step - loss: 0.4702 - acc: 0.7863\n",
      "Epoch 47/50\n",
      "3221706/3221706 [==============================] - 81s 25us/step - loss: 0.4701 - acc: 0.7863\n",
      "Epoch 48/50\n",
      "3221706/3221706 [==============================] - 79s 25us/step - loss: 0.4702 - acc: 0.7862\n",
      "Epoch 49/50\n",
      "3221706/3221706 [==============================] - 79s 24us/step - loss: 0.4702 - acc: 0.7863\n",
      "Epoch 50/50\n",
      "3221706/3221706 [==============================] - 79s 25us/step - loss: 0.4701 - acc: 0.7862\n"
     ]
    },
    {
     "data": {
      "text/plain": [
       "<keras.callbacks.History at 0x182c0539e8>"
      ]
     },
     "execution_count": 56,
     "metadata": {},
     "output_type": "execute_result"
    }
   ],
   "source": [
    "model2.fit(x = X_train, \n",
    "          y = y_train, \n",
    "          epochs=50, \n",
    "          batch_size=50)"
   ]
  },
  {
   "cell_type": "code",
   "execution_count": null,
   "metadata": {
    "collapsed": true
   },
   "outputs": [],
   "source": [
    "scores = model.evaluate(X_test, y_test)\n",
    "print(\"\\n%s: %.2f%%\" % (model.metrics_names[1], scores[1]*100))"
   ]
  }
 ],
 "metadata": {
  "kernelspec": {
   "display_name": "Python 3",
   "language": "python",
   "name": "python3"
  },
  "language_info": {
   "codemirror_mode": {
    "name": "ipython",
    "version": 3
   },
   "file_extension": ".py",
   "mimetype": "text/x-python",
   "name": "python",
   "nbconvert_exporter": "python",
   "pygments_lexer": "ipython3",
   "version": "3.6.1"
  }
 },
 "nbformat": 4,
 "nbformat_minor": 2
}
