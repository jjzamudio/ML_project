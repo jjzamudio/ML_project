{
 "cells": [
  {
   "cell_type": "code",
   "execution_count": 2,
   "metadata": {
    "collapsed": true
   },
   "outputs": [],
   "source": [
    "import pandas as pd\n",
    "import numpy as np\n",
    "import matplotlib.pyplot as plt\n",
    "%matplotlib inline\n",
    "\n",
    "from sklearn.linear_model import LogisticRegression\n",
    "import sklearn.metrics\n",
    "from sklearn.preprocessing import PolynomialFeatures"
   ]
  },
  {
   "cell_type": "code",
   "execution_count": 3,
   "metadata": {
    "collapsed": true
   },
   "outputs": [],
   "source": [
    "folder_dir = '../data/'\n",
    "date_range = [\"2012\",\"2013\",\"2014\",\"2015\",\"2016\",\"2017\"]"
   ]
  },
  {
   "cell_type": "code",
   "execution_count": 4,
   "metadata": {
    "collapsed": false
   },
   "outputs": [
    {
     "data": {
      "text/html": [
       "<div>\n",
       "<style>\n",
       "    .dataframe thead tr:only-child th {\n",
       "        text-align: right;\n",
       "    }\n",
       "\n",
       "    .dataframe thead th {\n",
       "        text-align: left;\n",
       "    }\n",
       "\n",
       "    .dataframe tbody tr th {\n",
       "        vertical-align: top;\n",
       "    }\n",
       "</style>\n",
       "<table border=\"1\" class=\"dataframe\">\n",
       "  <thead>\n",
       "    <tr style=\"text-align: right;\">\n",
       "      <th></th>\n",
       "      <th>date</th>\n",
       "      <th>stadium</th>\n",
       "      <th>inning</th>\n",
       "      <th>side</th>\n",
       "      <th>pitcher</th>\n",
       "      <th>pitch_count</th>\n",
       "      <th>batter</th>\n",
       "      <th>balls</th>\n",
       "      <th>strikes</th>\n",
       "      <th>ay</th>\n",
       "      <th>...</th>\n",
       "      <th>break_length</th>\n",
       "      <th>y</th>\n",
       "      <th>x0</th>\n",
       "      <th>on_1b</th>\n",
       "      <th>on_2b</th>\n",
       "      <th>on_3b</th>\n",
       "      <th>umpcall</th>\n",
       "      <th>outcome</th>\n",
       "      <th>offense_score</th>\n",
       "      <th>defense_score</th>\n",
       "    </tr>\n",
       "  </thead>\n",
       "  <tbody>\n",
       "    <tr>\n",
       "      <th>0</th>\n",
       "      <td>2012-04-04</td>\n",
       "      <td>Marlins Park</td>\n",
       "      <td>1</td>\n",
       "      <td>top</td>\n",
       "      <td>johnsjo09</td>\n",
       "      <td>5</td>\n",
       "      <td>beltrca01</td>\n",
       "      <td>0</td>\n",
       "      <td>0</td>\n",
       "      <td>30.626</td>\n",
       "      <td>...</td>\n",
       "      <td>3.4</td>\n",
       "      <td>154.56</td>\n",
       "      <td>-1.902</td>\n",
       "      <td>NaN</td>\n",
       "      <td>NaN</td>\n",
       "      <td>NaN</td>\n",
       "      <td>X</td>\n",
       "      <td>Single</td>\n",
       "      <td>0</td>\n",
       "      <td>0</td>\n",
       "    </tr>\n",
       "    <tr>\n",
       "      <th>1</th>\n",
       "      <td>2012-04-04</td>\n",
       "      <td>Marlins Park</td>\n",
       "      <td>1</td>\n",
       "      <td>top</td>\n",
       "      <td>johnsjo09</td>\n",
       "      <td>6</td>\n",
       "      <td>hollima01</td>\n",
       "      <td>0</td>\n",
       "      <td>0</td>\n",
       "      <td>28.580</td>\n",
       "      <td>...</td>\n",
       "      <td>3.8</td>\n",
       "      <td>132.11</td>\n",
       "      <td>-2.052</td>\n",
       "      <td>beltrca01</td>\n",
       "      <td>NaN</td>\n",
       "      <td>NaN</td>\n",
       "      <td>S</td>\n",
       "      <td>NaN</td>\n",
       "      <td>0</td>\n",
       "      <td>0</td>\n",
       "    </tr>\n",
       "    <tr>\n",
       "      <th>2</th>\n",
       "      <td>2012-04-04</td>\n",
       "      <td>Marlins Park</td>\n",
       "      <td>1</td>\n",
       "      <td>top</td>\n",
       "      <td>johnsjo09</td>\n",
       "      <td>7</td>\n",
       "      <td>hollima01</td>\n",
       "      <td>0</td>\n",
       "      <td>1</td>\n",
       "      <td>31.294</td>\n",
       "      <td>...</td>\n",
       "      <td>3.7</td>\n",
       "      <td>125.20</td>\n",
       "      <td>-2.130</td>\n",
       "      <td>beltrca01</td>\n",
       "      <td>NaN</td>\n",
       "      <td>NaN</td>\n",
       "      <td>S</td>\n",
       "      <td>NaN</td>\n",
       "      <td>0</td>\n",
       "      <td>0</td>\n",
       "    </tr>\n",
       "    <tr>\n",
       "      <th>3</th>\n",
       "      <td>2012-04-04</td>\n",
       "      <td>Marlins Park</td>\n",
       "      <td>1</td>\n",
       "      <td>top</td>\n",
       "      <td>johnsjo09</td>\n",
       "      <td>8</td>\n",
       "      <td>hollima01</td>\n",
       "      <td>0</td>\n",
       "      <td>2</td>\n",
       "      <td>33.548</td>\n",
       "      <td>...</td>\n",
       "      <td>3.6</td>\n",
       "      <td>151.97</td>\n",
       "      <td>-2.100</td>\n",
       "      <td>beltrca01</td>\n",
       "      <td>NaN</td>\n",
       "      <td>NaN</td>\n",
       "      <td>B</td>\n",
       "      <td>NaN</td>\n",
       "      <td>0</td>\n",
       "      <td>0</td>\n",
       "    </tr>\n",
       "    <tr>\n",
       "      <th>4</th>\n",
       "      <td>2012-04-04</td>\n",
       "      <td>Marlins Park</td>\n",
       "      <td>1</td>\n",
       "      <td>top</td>\n",
       "      <td>johnsjo09</td>\n",
       "      <td>9</td>\n",
       "      <td>hollima01</td>\n",
       "      <td>1</td>\n",
       "      <td>2</td>\n",
       "      <td>24.925</td>\n",
       "      <td>...</td>\n",
       "      <td>7.1</td>\n",
       "      <td>144.20</td>\n",
       "      <td>-2.312</td>\n",
       "      <td>beltrca01</td>\n",
       "      <td>NaN</td>\n",
       "      <td>NaN</td>\n",
       "      <td>X</td>\n",
       "      <td>Flyout</td>\n",
       "      <td>0</td>\n",
       "      <td>0</td>\n",
       "    </tr>\n",
       "  </tbody>\n",
       "</table>\n",
       "<p>5 rows × 47 columns</p>\n",
       "</div>"
      ],
      "text/plain": [
       "         date       stadium  inning side    pitcher  pitch_count     batter  \\\n",
       "0  2012-04-04  Marlins Park       1  top  johnsjo09            5  beltrca01   \n",
       "1  2012-04-04  Marlins Park       1  top  johnsjo09            6  hollima01   \n",
       "2  2012-04-04  Marlins Park       1  top  johnsjo09            7  hollima01   \n",
       "3  2012-04-04  Marlins Park       1  top  johnsjo09            8  hollima01   \n",
       "4  2012-04-04  Marlins Park       1  top  johnsjo09            9  hollima01   \n",
       "\n",
       "   balls  strikes      ay      ...        break_length       y     x0  \\\n",
       "0      0        0  30.626      ...                 3.4  154.56 -1.902   \n",
       "1      0        0  28.580      ...                 3.8  132.11 -2.052   \n",
       "2      0        1  31.294      ...                 3.7  125.20 -2.130   \n",
       "3      0        2  33.548      ...                 3.6  151.97 -2.100   \n",
       "4      1        2  24.925      ...                 7.1  144.20 -2.312   \n",
       "\n",
       "       on_1b  on_2b  on_3b  umpcall  outcome  offense_score  defense_score  \n",
       "0        NaN    NaN    NaN        X   Single              0              0  \n",
       "1  beltrca01    NaN    NaN        S      NaN              0              0  \n",
       "2  beltrca01    NaN    NaN        S      NaN              0              0  \n",
       "3  beltrca01    NaN    NaN        B      NaN              0              0  \n",
       "4  beltrca01    NaN    NaN        X   Flyout              0              0  \n",
       "\n",
       "[5 rows x 47 columns]"
      ]
     },
     "execution_count": 4,
     "metadata": {},
     "output_type": "execute_result"
    }
   ],
   "source": [
    "for i in range(len(date_range)):\n",
    "    year = date_range[i]\n",
    "    data_path = \"MLB_\" + year + \"/MLB_PitchFX_\" + year + \"_RegularSeason.csv\"\n",
    "    year_data = pd.read_csv(filepath_or_buffer= folder_dir + data_path, header=0)\n",
    "    \n",
    "    if i == 0:\n",
    "        data = year_data\n",
    "    else:\n",
    "        data = pd.concat([data,year_data])\n",
    "\n",
    "data.head()"
   ]
  },
  {
   "cell_type": "code",
   "execution_count": 5,
   "metadata": {
    "collapsed": false
   },
   "outputs": [
    {
     "data": {
      "text/plain": [
       "'\\nTODO:\\n    -More exploratory data analysis\\n    -Feature engineering/Clean data/select features\\n    -Define target valuable   \\n    \\n'"
      ]
     },
     "execution_count": 5,
     "metadata": {},
     "output_type": "execute_result"
    }
   ],
   "source": [
    "'''\n",
    "TODO:\n",
    "    -More exploratory data analysis\n",
    "    -Feature engineering/Clean data/select features\n",
    "    -Define target valuable   \n",
    "    \n",
    "'''"
   ]
  },
  {
   "cell_type": "code",
   "execution_count": 6,
   "metadata": {
    "collapsed": false
   },
   "outputs": [
    {
     "data": {
      "text/plain": [
       "(3902210, 43)"
      ]
     },
     "execution_count": 6,
     "metadata": {},
     "output_type": "execute_result"
    }
   ],
   "source": [
    "data = data.drop(['on_1b', 'on_2b', \"on_3b\",'y'], axis = 1)\n",
    "data.shape"
   ]
  },
  {
   "cell_type": "code",
   "execution_count": 7,
   "metadata": {
    "collapsed": false,
    "scrolled": true
   },
   "outputs": [
    {
     "data": {
      "image/png": "[encoded data removed]",
      "text/plain": [
       "<matplotlib.figure.Figure at 0x1039d1f98>"
      ]
     },
     "metadata": {},
     "output_type": "display_data"
    }
   ],
   "source": [
    "_ = plt.hist(data.isnull().sum())"
   ]
  },
  {
   "cell_type": "code",
   "execution_count": 8,
   "metadata": {
    "collapsed": false
   },
   "outputs": [
    {
     "data": {
      "text/plain": [
       "array(['date', 'stadium', 'inning', 'side', 'pitcher', 'pitch_count',\n",
       "       'batter', 'balls', 'strikes', 'ay', 'px', 'ax', 'sz_bot', 'vz0',\n",
       "       'vy0', 'pfx_x', 'type_confidence', 'z0', 'tfs', 'pz', 'start_speed',\n",
       "       'az', 'zone', 'break_angle', 'spin_dir', 'end_speed', 'vx0',\n",
       "       'sz_top', 'nasty', 'descr', 'pfx_z', 'break_y', 'pitch_type',\n",
       "       'tfs_zulu', 'x', 'spin_rate', 'y0', 'break_length', 'x0', 'umpcall',\n",
       "       'outcome', 'offense_score', 'defense_score'], dtype=object)"
      ]
     },
     "execution_count": 8,
     "metadata": {},
     "output_type": "execute_result"
    }
   ],
   "source": [
    "data.columns.values"
   ]
  },
  {
   "cell_type": "code",
   "execution_count": 9,
   "metadata": {
    "collapsed": false,
    "scrolled": true
   },
   "outputs": [
    {
     "data": {
      "text/plain": [
       "date                     0\n",
       "stadium                  0\n",
       "inning                   0\n",
       "side                     0\n",
       "pitcher                313\n",
       "pitch_count              0\n",
       "batter                   5\n",
       "balls                    0\n",
       "strikes                  0\n",
       "ay                       0\n",
       "px                       0\n",
       "ax                       0\n",
       "sz_bot                   0\n",
       "vz0                      0\n",
       "vy0                      0\n",
       "pfx_x                    0\n",
       "type_confidence          0\n",
       "z0                       0\n",
       "tfs                     29\n",
       "pz                       0\n",
       "start_speed              0\n",
       "az                       0\n",
       "zone                     0\n",
       "break_angle              0\n",
       "spin_dir                 0\n",
       "end_speed                0\n",
       "vx0                      0\n",
       "sz_top                   0\n",
       "nasty                  317\n",
       "descr                    0\n",
       "pfx_z                    0\n",
       "break_y                  0\n",
       "pitch_type               0\n",
       "tfs_zulu                29\n",
       "x                        0\n",
       "spin_rate                0\n",
       "y0                       0\n",
       "break_length             0\n",
       "x0                       0\n",
       "umpcall                  0\n",
       "outcome            3187177\n",
       "offense_score            0\n",
       "defense_score            0\n",
       "dtype: int64"
      ]
     },
     "execution_count": 9,
     "metadata": {},
     "output_type": "execute_result"
    }
   ],
   "source": [
    "data.isnull().sum()"
   ]
  },
  {
   "cell_type": "code",
   "execution_count": 10,
   "metadata": {
    "collapsed": false
   },
   "outputs": [
    {
     "data": {
      "text/plain": [
       "(array([  273908.,   117352.,   197796.,   409078.,   174966.,   199062.,\n",
       "          181744.,   522515.,   357548.,  1468241.]),\n",
       " array([  1. ,   2.3,   3.6,   4.9,   6.2,   7.5,   8.8,  10.1,  11.4,\n",
       "         12.7,  14. ]),\n",
       " <a list of 10 Patch objects>)"
      ]
     },
     "execution_count": 10,
     "metadata": {},
     "output_type": "execute_result"
    },
    {
     "data": {
      "image/png": "[encoded data removed]",
      "text/plain": [
       "<matplotlib.figure.Figure at 0x12386c898>"
      ]
     },
     "metadata": {},
     "output_type": "display_data"
    }
   ],
   "source": [
    "plt.hist(data['zone'])"
   ]
  },
  {
   "cell_type": "code",
   "execution_count": 11,
   "metadata": {
    "collapsed": false
   },
   "outputs": [
    {
     "data": {
      "text/plain": [
       "(array([ 127781.,  222706.,  209657.,  570044.,  554273.,  963124.,\n",
       "         906232.,  206608.,   76506.,   65279.]),\n",
       " array([ -2.00000000e-03,   3.59983000e+01,   7.19986000e+01,\n",
       "          1.07998900e+02,   1.43999200e+02,   1.79999500e+02,\n",
       "          2.15999800e+02,   2.52000100e+02,   2.88000400e+02,\n",
       "          3.24000700e+02,   3.60001000e+02]),\n",
       " <a list of 10 Patch objects>)"
      ]
     },
     "execution_count": 11,
     "metadata": {},
     "output_type": "execute_result"
    },
    {
     "data": {
      "image/png": "[encoded data removed]",
      "text/plain": [
       "<matplotlib.figure.Figure at 0x1241ce198>"
      ]
     },
     "metadata": {},
     "output_type": "display_data"
    }
   ],
   "source": [
    "plt.hist(data['spin_dir'])"
   ]
  },
  {
   "cell_type": "markdown",
   "metadata": {},
   "source": [
    "## 1. Target variable\n",
    "We classify a pitch as good if it induces a swinging strike, a called strike, a foul, or if it generates a\n",
    "ball in play that is converted to an out"
   ]
  },
  {
   "cell_type": "code",
   "execution_count": 12,
   "metadata": {
    "collapsed": false
   },
   "outputs": [
    {
     "data": {
      "text/plain": [
       "array(['Single', nan, 'Flyout', 'Groundout', 'Pop Out', 'Lineout',\n",
       "       'Sac Bunt', 'Forceout', 'Double Play', 'Grounded Into DP', 'Double',\n",
       "       'Fielders Choice', 'Field Error', 'Triple', 'Home Run', 'Sac Fly',\n",
       "       'Fielders Choice Out', 'Bunt Groundout', 'Bunt Pop Out',\n",
       "       'Fan interference', 'Triple Play', 'Batter Interference',\n",
       "       'Sac Fly DP', 'Bunt Lineout', 'Catcher Interference',\n",
       "       'Sacrifice Bunt DP', 'Fly Out', 'Reach on Error',\n",
       "       'Pitcher Interference'], dtype=object)"
      ]
     },
     "execution_count": 12,
     "metadata": {},
     "output_type": "execute_result"
    }
   ],
   "source": [
    "data.outcome.unique()"
   ]
  },
  {
   "cell_type": "code",
   "execution_count": 13,
   "metadata": {
    "collapsed": false
   },
   "outputs": [
    {
     "data": {
      "text/plain": [
       "array(['X', 'S', 'B'], dtype=object)"
      ]
     },
     "execution_count": 13,
     "metadata": {},
     "output_type": "execute_result"
    }
   ],
   "source": [
    "data.umpcall.unique()"
   ]
  },
  {
   "cell_type": "code",
   "execution_count": 14,
   "metadata": {
    "collapsed": false
   },
   "outputs": [
    {
     "data": {
      "text/plain": [
       "array(['In play, no out', 'Foul Tip', 'Swinging Strike', 'Ball',\n",
       "       'In play, out(s)', 'Called Strike', 'In play, run(s)', 'Foul',\n",
       "       'Foul (Runner Going)', 'Hit By Pitch', 'Ball In Dirt', 'Foul Bunt',\n",
       "       'Swinging Strike (Blocked)', 'Missed Bunt'], dtype=object)"
      ]
     },
     "execution_count": 14,
     "metadata": {},
     "output_type": "execute_result"
    }
   ],
   "source": [
    "data.descr.unique()"
   ]
  },
  {
   "cell_type": "code",
   "execution_count": 15,
   "metadata": {
    "collapsed": true
   },
   "outputs": [],
   "source": [
    "#Using descr feature to define good pitch\n",
    "g_outcomes=['Foul Tip','Swinging Strike','In play, out(s)', 'Called Strike', 'Foul','Foul (Runner Going)','Foul Bunt',\n",
    "       'Swinging Strike (Blocked)', 'Missed Bunt' ]\n",
    "\n",
    "#Using outcome feature to use more detailed descriptions (eg: lineout vs groundout). I think this approach is better\n",
    "g_outcomes2=['Flyout', 'Fly Out','Groundout','Pop Out','Forceout','Double Play','Grounded into DP','Fielders Choice','Fielders Choice Out', \n",
    "             'Bunt Groundout','Bunt Pop Out','Sac Fly DP','Bunt Lineout','Foul']"
   ]
  },
  {
   "cell_type": "code",
   "execution_count": 16,
   "metadata": {
    "collapsed": false
   },
   "outputs": [
    {
     "data": {
      "image/png": "[encoded data removed]",
      "text/plain": [
       "<matplotlib.figure.Figure at 0x120d7f160>"
      ]
     },
     "metadata": {},
     "output_type": "display_data"
    }
   ],
   "source": [
    "#Create target feature\n",
    "data['y']=np.where((data['outcome'].isin(g_outcomes2)) | (data['umpcall']=='S'),1,0)\n",
    "a=plt.hist(data['y'])"
   ]
  },
  {
   "cell_type": "code",
   "execution_count": 17,
   "metadata": {
    "collapsed": false
   },
   "outputs": [
    {
     "data": {
      "text/plain": [
       "(array([0, 1]), False)"
      ]
     },
     "execution_count": 17,
     "metadata": {},
     "output_type": "execute_result"
    }
   ],
   "source": [
    "data.y.unique(), data.y.isnull().any()"
   ]
  },
  {
   "cell_type": "code",
   "execution_count": 18,
   "metadata": {
    "collapsed": false
   },
   "outputs": [
    {
     "data": {
      "text/plain": [
       "Index(['date', 'stadium', 'inning', 'side', 'pitcher', 'pitch_count', 'batter',\n",
       "       'balls', 'strikes', 'ay', 'px', 'ax', 'sz_bot', 'vz0', 'vy0', 'pfx_x',\n",
       "       'type_confidence', 'z0', 'tfs', 'pz', 'start_speed', 'az', 'zone',\n",
       "       'break_angle', 'spin_dir', 'end_speed', 'vx0', 'sz_top', 'nasty',\n",
       "       'descr', 'pfx_z', 'break_y', 'pitch_type', 'tfs_zulu', 'x', 'spin_rate',\n",
       "       'y0', 'break_length', 'x0', 'umpcall', 'outcome', 'offense_score',\n",
       "       'defense_score', 'y'],\n",
       "      dtype='object')"
      ]
     },
     "execution_count": 18,
     "metadata": {},
     "output_type": "execute_result"
    }
   ],
   "source": [
    "data.columns"
   ]
  },
  {
   "cell_type": "markdown",
   "metadata": {},
   "source": [
    "## 2. Divide in Train (2012-2106) and Test (2017)"
   ]
  },
  {
   "cell_type": "code",
   "execution_count": 19,
   "metadata": {
    "collapsed": true
   },
   "outputs": [],
   "source": [
    "#Drop columns we´re not going to use\n",
    "data['year']=data['date'].str.slice(0,4)\n",
    "\n",
    "features=['umpcall', 'outcome','start_speed','pfx_x','pfx_z','px','pz','break_y','break_angle','break_length','pitch_type',\n",
    "         'spin_dir','nasty','pitch_count','descr','y','year','zone','strikes','balls','pitcher']\n",
    "baseline_features=['start_speed','px','pz','year','y']\n",
    "\n",
    "data=data[features]\n",
    "data_base=data[baseline_features]"
   ]
  },
  {
   "cell_type": "code",
   "execution_count": 20,
   "metadata": {
    "collapsed": true
   },
   "outputs": [],
   "source": [
    "#data_path = \"MLB_\" + year + \"/MLB_PitchFX_\" + year + \"_RegularSeason.csv\"\n",
    "#year_data = pd.read_csv(filepath_or_buffer= folder_dir + data_path, header=0)\n",
    "save_path=folder_dir+'data_clean.csv'\n",
    "data.to_csv(save_path) "
   ]
  },
  {
   "cell_type": "code",
   "execution_count": 21,
   "metadata": {
    "collapsed": false
   },
   "outputs": [
    {
     "data": {
      "text/html": [
       "<div>\n",
       "<style>\n",
       "    .dataframe thead tr:only-child th {\n",
       "        text-align: right;\n",
       "    }\n",
       "\n",
       "    .dataframe thead th {\n",
       "        text-align: left;\n",
       "    }\n",
       "\n",
       "    .dataframe tbody tr th {\n",
       "        vertical-align: top;\n",
       "    }\n",
       "</style>\n",
       "<table border=\"1\" class=\"dataframe\">\n",
       "  <thead>\n",
       "    <tr style=\"text-align: right;\">\n",
       "      <th></th>\n",
       "      <th>start_speed</th>\n",
       "      <th>px</th>\n",
       "      <th>pz</th>\n",
       "    </tr>\n",
       "  </thead>\n",
       "  <tbody>\n",
       "    <tr>\n",
       "      <th>0</th>\n",
       "      <td>94.9</td>\n",
       "      <td>0.316</td>\n",
       "      <td>2.033</td>\n",
       "    </tr>\n",
       "    <tr>\n",
       "      <th>1</th>\n",
       "      <td>92.9</td>\n",
       "      <td>-0.385</td>\n",
       "      <td>3.049</td>\n",
       "    </tr>\n",
       "    <tr>\n",
       "      <th>2</th>\n",
       "      <td>93.1</td>\n",
       "      <td>-0.971</td>\n",
       "      <td>3.336</td>\n",
       "    </tr>\n",
       "    <tr>\n",
       "      <th>3</th>\n",
       "      <td>92.9</td>\n",
       "      <td>-1.474</td>\n",
       "      <td>2.239</td>\n",
       "    </tr>\n",
       "    <tr>\n",
       "      <th>4</th>\n",
       "      <td>88.3</td>\n",
       "      <td>0.247</td>\n",
       "      <td>2.588</td>\n",
       "    </tr>\n",
       "  </tbody>\n",
       "</table>\n",
       "</div>"
      ],
      "text/plain": [
       "   start_speed     px     pz\n",
       "0         94.9  0.316  2.033\n",
       "1         92.9 -0.385  3.049\n",
       "2         93.1 -0.971  3.336\n",
       "3         92.9 -1.474  2.239\n",
       "4         88.3  0.247  2.588"
      ]
     },
     "execution_count": 21,
     "metadata": {},
     "output_type": "execute_result"
    }
   ],
   "source": [
    "#data = data.drop(['on_1b', 'on_2b', \"on_3b\"], axis = 1)\n",
    "X_train=data_base[data_base['year']!='2017']\n",
    "y_train=X_train['y']\n",
    "X_train=X_train.drop(['y','year'],axis=1)\n",
    "\n",
    "X_test=data_base[data_base['year']=='2017']\n",
    "y_test=X_test['y']\n",
    "X_test=X_test.drop(['y','year'],axis=1)\n",
    "\n",
    "X_train.head()"
   ]
  },
  {
   "cell_type": "code",
   "execution_count": 22,
   "metadata": {
    "collapsed": false
   },
   "outputs": [
    {
     "data": {
      "text/plain": [
       "(3186673, 3)"
      ]
     },
     "execution_count": 22,
     "metadata": {},
     "output_type": "execute_result"
    }
   ],
   "source": [
    "X_train.shape"
   ]
  },
  {
   "cell_type": "markdown",
   "metadata": {},
   "source": [
    "## 3. Baseline with Logistic Regression"
   ]
  },
  {
   "cell_type": "code",
   "execution_count": 23,
   "metadata": {
    "collapsed": false
   },
   "outputs": [
    {
     "data": {
      "text/plain": [
       "array([[  9.09000000e+01,  -6.36482000e-01,   2.15335000e+00,\n",
       "         -5.78562138e+01,   1.95739515e+02,  -1.37056851e+00],\n",
       "       [  9.05000000e+01,   5.40171000e-01,   3.49998000e+00,\n",
       "          4.88854755e+01,   3.16748190e+02,   1.89058770e+00],\n",
       "       [  7.52000000e+01,   3.42781000e-01,   1.59708000e+00,\n",
       "          2.57771312e+01,   1.20100416e+02,   5.47448679e-01],\n",
       "       ..., \n",
       "       [  9.23000000e+01,  -8.53413000e-01,   3.99002000e+00,\n",
       "         -7.87700199e+01,   3.68278846e+02,  -3.40513494e+00],\n",
       "       [  8.21000000e+01,  -1.12657000e+00,   2.90930000e+00,\n",
       "         -9.24913970e+01,   2.38853530e+02,  -3.27753010e+00],\n",
       "       [  9.21000000e+01,   4.04650000e-01,   1.77480000e+00,\n",
       "          3.72682650e+01,   1.63459080e+02,   7.18172820e-01]])"
      ]
     },
     "execution_count": 23,
     "metadata": {},
     "output_type": "execute_result"
    }
   ],
   "source": [
    "poly = PolynomialFeatures(interaction_only=True, include_bias=False)\n",
    "poly.fit_transform(X_train)\n",
    "poly.fit_transform(X_test)"
   ]
  },
  {
   "cell_type": "code",
   "execution_count": 24,
   "metadata": {
    "collapsed": false
   },
   "outputs": [
    {
     "data": {
      "text/plain": [
       "((3186673, 3), (715537, 3))"
      ]
     },
     "execution_count": 24,
     "metadata": {},
     "output_type": "execute_result"
    }
   ],
   "source": [
    "X_train.shape, X_test.shape"
   ]
  },
  {
   "cell_type": "code",
   "execution_count": 25,
   "metadata": {
    "collapsed": false
   },
   "outputs": [
    {
     "data": {
      "text/plain": [
       "LogisticRegression(C=1.0, class_weight=None, dual=False, fit_intercept=True,\n",
       "          intercept_scaling=1, max_iter=100, multi_class='ovr', n_jobs=1,\n",
       "          penalty='l2', random_state=None, solver='liblinear', tol=0.0001,\n",
       "          verbose=0, warm_start=False)"
      ]
     },
     "execution_count": 25,
     "metadata": {},
     "output_type": "execute_result"
    }
   ],
   "source": [
    "baseline=LogisticRegression()\n",
    "baseline.fit(X_train,y_train)"
   ]
  },
  {
   "cell_type": "code",
   "execution_count": 26,
   "metadata": {
    "collapsed": false
   },
   "outputs": [
    {
     "data": {
      "text/plain": [
       "array([[-0.00026723,  0.00940246,  0.20150652]])"
      ]
     },
     "execution_count": 26,
     "metadata": {},
     "output_type": "execute_result"
    }
   ],
   "source": [
    "#print(list(zip(list(X_train.columns),list(baseline.coef_[0]))))\n",
    "baseline.coef_"
   ]
  },
  {
   "cell_type": "code",
   "execution_count": 27,
   "metadata": {
    "collapsed": false
   },
   "outputs": [
    {
     "name": "stdout",
     "output_type": "stream",
     "text": [
      "Baseline accuracy: 0.62, Baseline log loss: 0.68, Majority class: 0.55 \n"
     ]
    }
   ],
   "source": [
    "probs=baseline.predict_proba(X_test)[:,1]\n",
    "preds=baseline.predict(X_test)\n",
    "baseline_loss=sklearn.metrics.log_loss(y_test,probs)\n",
    "baseline_acc=sklearn.metrics.accuracy_score(y_test,preds)\n",
    "majority_class=np.amax(y_test.value_counts(normalize=True))\n",
    "\n",
    "print('%s: %0.2f, %s: %0.2f, %s: %0.2f '\n",
    "      %('Baseline accuracy',baseline_acc,'Baseline log loss', baseline_loss,'Majority class',majority_class))"
   ]
  },
  {
   "cell_type": "markdown",
   "metadata": {
    "collapsed": true
   },
   "source": [
    "# LR with all features"
   ]
  },
  {
   "cell_type": "code",
   "execution_count": 31,
   "metadata": {
    "collapsed": false
   },
   "outputs": [
    {
     "data": {
      "text/html": [
       "<div>\n",
       "<style>\n",
       "    .dataframe thead tr:only-child th {\n",
       "        text-align: right;\n",
       "    }\n",
       "\n",
       "    .dataframe thead th {\n",
       "        text-align: left;\n",
       "    }\n",
       "\n",
       "    .dataframe tbody tr th {\n",
       "        vertical-align: top;\n",
       "    }\n",
       "</style>\n",
       "<table border=\"1\" class=\"dataframe\">\n",
       "  <thead>\n",
       "    <tr style=\"text-align: right;\">\n",
       "      <th></th>\n",
       "      <th>umpcall</th>\n",
       "      <th>outcome</th>\n",
       "      <th>start_speed</th>\n",
       "      <th>pfx_x</th>\n",
       "      <th>pfx_z</th>\n",
       "      <th>px</th>\n",
       "      <th>pz</th>\n",
       "      <th>break_y</th>\n",
       "      <th>break_angle</th>\n",
       "      <th>break_length</th>\n",
       "      <th>pitch_type</th>\n",
       "      <th>spin_dir</th>\n",
       "      <th>nasty</th>\n",
       "      <th>pitch_count</th>\n",
       "      <th>descr</th>\n",
       "      <th>zone</th>\n",
       "      <th>strikes</th>\n",
       "      <th>balls</th>\n",
       "      <th>pitcher</th>\n",
       "    </tr>\n",
       "  </thead>\n",
       "  <tbody>\n",
       "    <tr>\n",
       "      <th>0</th>\n",
       "      <td>X</td>\n",
       "      <td>Single</td>\n",
       "      <td>94.9</td>\n",
       "      <td>-4.22</td>\n",
       "      <td>9.66</td>\n",
       "      <td>0.316</td>\n",
       "      <td>2.033</td>\n",
       "      <td>23.8</td>\n",
       "      <td>23.6</td>\n",
       "      <td>3.4</td>\n",
       "      <td>FF</td>\n",
       "      <td>203.490</td>\n",
       "      <td>56.0</td>\n",
       "      <td>5</td>\n",
       "      <td>In play, no out</td>\n",
       "      <td>9</td>\n",
       "      <td>0</td>\n",
       "      <td>0</td>\n",
       "      <td>johnsjo09</td>\n",
       "    </tr>\n",
       "    <tr>\n",
       "      <th>1</th>\n",
       "      <td>S</td>\n",
       "      <td>NaN</td>\n",
       "      <td>92.9</td>\n",
       "      <td>-1.34</td>\n",
       "      <td>8.26</td>\n",
       "      <td>-0.385</td>\n",
       "      <td>3.049</td>\n",
       "      <td>23.8</td>\n",
       "      <td>4.9</td>\n",
       "      <td>3.8</td>\n",
       "      <td>FF</td>\n",
       "      <td>189.150</td>\n",
       "      <td>53.0</td>\n",
       "      <td>6</td>\n",
       "      <td>Foul Tip</td>\n",
       "      <td>4</td>\n",
       "      <td>0</td>\n",
       "      <td>0</td>\n",
       "      <td>johnsjo09</td>\n",
       "    </tr>\n",
       "    <tr>\n",
       "      <th>2</th>\n",
       "      <td>S</td>\n",
       "      <td>NaN</td>\n",
       "      <td>93.1</td>\n",
       "      <td>-3.84</td>\n",
       "      <td>9.17</td>\n",
       "      <td>-0.971</td>\n",
       "      <td>3.336</td>\n",
       "      <td>23.8</td>\n",
       "      <td>21.3</td>\n",
       "      <td>3.7</td>\n",
       "      <td>FF</td>\n",
       "      <td>202.631</td>\n",
       "      <td>58.0</td>\n",
       "      <td>7</td>\n",
       "      <td>Swinging Strike</td>\n",
       "      <td>11</td>\n",
       "      <td>1</td>\n",
       "      <td>0</td>\n",
       "      <td>johnsjo09</td>\n",
       "    </tr>\n",
       "    <tr>\n",
       "      <th>3</th>\n",
       "      <td>B</td>\n",
       "      <td>NaN</td>\n",
       "      <td>92.9</td>\n",
       "      <td>-1.64</td>\n",
       "      <td>9.56</td>\n",
       "      <td>-1.474</td>\n",
       "      <td>2.239</td>\n",
       "      <td>23.7</td>\n",
       "      <td>8.8</td>\n",
       "      <td>3.6</td>\n",
       "      <td>FF</td>\n",
       "      <td>189.712</td>\n",
       "      <td>28.0</td>\n",
       "      <td>8</td>\n",
       "      <td>Ball</td>\n",
       "      <td>13</td>\n",
       "      <td>2</td>\n",
       "      <td>0</td>\n",
       "      <td>johnsjo09</td>\n",
       "    </tr>\n",
       "    <tr>\n",
       "      <th>4</th>\n",
       "      <td>X</td>\n",
       "      <td>Flyout</td>\n",
       "      <td>88.3</td>\n",
       "      <td>4.96</td>\n",
       "      <td>2.46</td>\n",
       "      <td>0.247</td>\n",
       "      <td>2.588</td>\n",
       "      <td>23.9</td>\n",
       "      <td>-18.1</td>\n",
       "      <td>7.1</td>\n",
       "      <td>SL</td>\n",
       "      <td>116.781</td>\n",
       "      <td>25.0</td>\n",
       "      <td>9</td>\n",
       "      <td>In play, out(s)</td>\n",
       "      <td>6</td>\n",
       "      <td>2</td>\n",
       "      <td>1</td>\n",
       "      <td>johnsjo09</td>\n",
       "    </tr>\n",
       "  </tbody>\n",
       "</table>\n",
       "</div>"
      ],
      "text/plain": [
       "  umpcall outcome  start_speed  pfx_x  pfx_z     px     pz  break_y  \\\n",
       "0       X  Single         94.9  -4.22   9.66  0.316  2.033     23.8   \n",
       "1       S     NaN         92.9  -1.34   8.26 -0.385  3.049     23.8   \n",
       "2       S     NaN         93.1  -3.84   9.17 -0.971  3.336     23.8   \n",
       "3       B     NaN         92.9  -1.64   9.56 -1.474  2.239     23.7   \n",
       "4       X  Flyout         88.3   4.96   2.46  0.247  2.588     23.9   \n",
       "\n",
       "   break_angle  break_length pitch_type  spin_dir  nasty  pitch_count  \\\n",
       "0         23.6           3.4         FF   203.490   56.0            5   \n",
       "1          4.9           3.8         FF   189.150   53.0            6   \n",
       "2         21.3           3.7         FF   202.631   58.0            7   \n",
       "3          8.8           3.6         FF   189.712   28.0            8   \n",
       "4        -18.1           7.1         SL   116.781   25.0            9   \n",
       "\n",
       "             descr  zone  strikes  balls    pitcher  \n",
       "0  In play, no out     9        0      0  johnsjo09  \n",
       "1         Foul Tip     4        0      0  johnsjo09  \n",
       "2  Swinging Strike    11        1      0  johnsjo09  \n",
       "3             Ball    13        2      0  johnsjo09  \n",
       "4  In play, out(s)     6        2      1  johnsjo09  "
      ]
     },
     "execution_count": 31,
     "metadata": {},
     "output_type": "execute_result"
    }
   ],
   "source": [
    "X_train=data[data['year']!='2017']\n",
    "y_train=X_train['y']\n",
    "X_train=X_train.drop(['y','year'],axis=1)\n",
    "\n",
    "X_test=data[data['year']=='2017']\n",
    "y_test=X_test['y']\n",
    "X_test=X_test.drop(['y','year'],axis=1)\n",
    "\n",
    "X_train.head()"
   ]
  },
  {
   "cell_type": "code",
   "execution_count": 32,
   "metadata": {
    "collapsed": true
   },
   "outputs": [],
   "source": [
    "import category_encoders as ce\n",
    "X_train = X_train.drop( ['pitch_type','outcome', 'umpcall', \"descr\", 'pitcher' ], axis = 1)\n",
    "\n",
    "# enc = ce.OneHotEncoder(cols = ['outcome'],handle_unknown = \"ignore\")\n",
    "# enc.fit(X_train)\n",
    "# X_train_one_hot = enc.transform(X_train)\n",
    "# X_test_one_hot = enc.transform(X_test)"
   ]
  },
  {
   "cell_type": "code",
   "execution_count": 37,
   "metadata": {
    "collapsed": false
   },
   "outputs": [
    {
     "data": {
      "text/html": [
       "<div>\n",
       "<style>\n",
       "    .dataframe thead tr:only-child th {\n",
       "        text-align: right;\n",
       "    }\n",
       "\n",
       "    .dataframe thead th {\n",
       "        text-align: left;\n",
       "    }\n",
       "\n",
       "    .dataframe tbody tr th {\n",
       "        vertical-align: top;\n",
       "    }\n",
       "</style>\n",
       "<table border=\"1\" class=\"dataframe\">\n",
       "  <thead>\n",
       "    <tr style=\"text-align: right;\">\n",
       "      <th></th>\n",
       "      <th>start_speed</th>\n",
       "      <th>pfx_x</th>\n",
       "      <th>pfx_z</th>\n",
       "      <th>px</th>\n",
       "      <th>pz</th>\n",
       "      <th>break_y</th>\n",
       "      <th>break_angle</th>\n",
       "      <th>break_length</th>\n",
       "      <th>spin_dir</th>\n",
       "      <th>nasty</th>\n",
       "      <th>pitch_count</th>\n",
       "      <th>zone</th>\n",
       "      <th>strikes</th>\n",
       "      <th>balls</th>\n",
       "    </tr>\n",
       "  </thead>\n",
       "  <tbody>\n",
       "    <tr>\n",
       "      <th>0</th>\n",
       "      <td>94.9</td>\n",
       "      <td>-4.22</td>\n",
       "      <td>9.66</td>\n",
       "      <td>0.316</td>\n",
       "      <td>2.033</td>\n",
       "      <td>23.8</td>\n",
       "      <td>23.6</td>\n",
       "      <td>3.4</td>\n",
       "      <td>203.490</td>\n",
       "      <td>56.0</td>\n",
       "      <td>5</td>\n",
       "      <td>9</td>\n",
       "      <td>0</td>\n",
       "      <td>0</td>\n",
       "    </tr>\n",
       "    <tr>\n",
       "      <th>1</th>\n",
       "      <td>92.9</td>\n",
       "      <td>-1.34</td>\n",
       "      <td>8.26</td>\n",
       "      <td>-0.385</td>\n",
       "      <td>3.049</td>\n",
       "      <td>23.8</td>\n",
       "      <td>4.9</td>\n",
       "      <td>3.8</td>\n",
       "      <td>189.150</td>\n",
       "      <td>53.0</td>\n",
       "      <td>6</td>\n",
       "      <td>4</td>\n",
       "      <td>0</td>\n",
       "      <td>0</td>\n",
       "    </tr>\n",
       "    <tr>\n",
       "      <th>2</th>\n",
       "      <td>93.1</td>\n",
       "      <td>-3.84</td>\n",
       "      <td>9.17</td>\n",
       "      <td>-0.971</td>\n",
       "      <td>3.336</td>\n",
       "      <td>23.8</td>\n",
       "      <td>21.3</td>\n",
       "      <td>3.7</td>\n",
       "      <td>202.631</td>\n",
       "      <td>58.0</td>\n",
       "      <td>7</td>\n",
       "      <td>11</td>\n",
       "      <td>1</td>\n",
       "      <td>0</td>\n",
       "    </tr>\n",
       "    <tr>\n",
       "      <th>3</th>\n",
       "      <td>92.9</td>\n",
       "      <td>-1.64</td>\n",
       "      <td>9.56</td>\n",
       "      <td>-1.474</td>\n",
       "      <td>2.239</td>\n",
       "      <td>23.7</td>\n",
       "      <td>8.8</td>\n",
       "      <td>3.6</td>\n",
       "      <td>189.712</td>\n",
       "      <td>28.0</td>\n",
       "      <td>8</td>\n",
       "      <td>13</td>\n",
       "      <td>2</td>\n",
       "      <td>0</td>\n",
       "    </tr>\n",
       "    <tr>\n",
       "      <th>4</th>\n",
       "      <td>88.3</td>\n",
       "      <td>4.96</td>\n",
       "      <td>2.46</td>\n",
       "      <td>0.247</td>\n",
       "      <td>2.588</td>\n",
       "      <td>23.9</td>\n",
       "      <td>-18.1</td>\n",
       "      <td>7.1</td>\n",
       "      <td>116.781</td>\n",
       "      <td>25.0</td>\n",
       "      <td>9</td>\n",
       "      <td>6</td>\n",
       "      <td>2</td>\n",
       "      <td>1</td>\n",
       "    </tr>\n",
       "  </tbody>\n",
       "</table>\n",
       "</div>"
      ],
      "text/plain": [
       "   start_speed  pfx_x  pfx_z     px     pz  break_y  break_angle  \\\n",
       "0         94.9  -4.22   9.66  0.316  2.033     23.8         23.6   \n",
       "1         92.9  -1.34   8.26 -0.385  3.049     23.8          4.9   \n",
       "2         93.1  -3.84   9.17 -0.971  3.336     23.8         21.3   \n",
       "3         92.9  -1.64   9.56 -1.474  2.239     23.7          8.8   \n",
       "4         88.3   4.96   2.46  0.247  2.588     23.9        -18.1   \n",
       "\n",
       "   break_length  spin_dir  nasty  pitch_count  zone  strikes  balls  \n",
       "0           3.4   203.490   56.0            5     9        0      0  \n",
       "1           3.8   189.150   53.0            6     4        0      0  \n",
       "2           3.7   202.631   58.0            7    11        1      0  \n",
       "3           3.6   189.712   28.0            8    13        2      0  \n",
       "4           7.1   116.781   25.0            9     6        2      1  "
      ]
     },
     "execution_count": 37,
     "metadata": {},
     "output_type": "execute_result"
    }
   ],
   "source": [
    "X_train.head()"
   ]
  },
  {
   "cell_type": "code",
   "execution_count": 33,
   "metadata": {
    "collapsed": false
   },
   "outputs": [
    {
     "data": {
      "text/plain": [
       "LogisticRegression(C=1.0, class_weight=None, dual=False, fit_intercept=True,\n",
       "          intercept_scaling=1, max_iter=100, multi_class='ovr', n_jobs=1,\n",
       "          penalty='l2', random_state=None, solver='liblinear', tol=0.0001,\n",
       "          verbose=0, warm_start=False)"
      ]
     },
     "execution_count": 33,
     "metadata": {},
     "output_type": "execute_result"
    }
   ],
   "source": [
    "baseline=LogisticRegression()\n",
    "baseline.fit(X_train,y_train)"
   ]
  },
  {
   "cell_type": "code",
   "execution_count": 68,
   "metadata": {
    "collapsed": false
   },
   "outputs": [
    {
     "data": {
      "text/plain": [
       "array([[ -1.27646489e-02,  -4.93571529e-03,  -6.14750745e-03,\n",
       "          7.06920199e-02,  -2.15594323e-01,   1.49295051e-01,\n",
       "         -1.52520387e-03,  -1.88560933e-02,  -1.99120778e-05,\n",
       "          2.25605526e-02,  -4.94265923e-04,  -2.83128524e-01,\n",
       "          1.64463908e-01,   1.65133852e-01]])"
      ]
     },
     "execution_count": 68,
     "metadata": {},
     "output_type": "execute_result"
    }
   ],
   "source": [
    "baseline.coef_"
   ]
  },
  {
   "cell_type": "code",
   "execution_count": 38,
   "metadata": {
    "collapsed": false
   },
   "outputs": [
    {
     "name": "stderr",
     "output_type": "stream",
     "text": [
      "/Users/groupm/anaconda2/envs/py36/lib/python3.6/site-packages/sklearn/linear_model/base.py:340: RuntimeWarning: overflow encountered in exp\n",
      "  np.exp(prob, prob)\n"
     ]
    },
    {
     "name": "stdout",
     "output_type": "stream",
     "text": [
      "Baseline accuracy: 0.71, Baseline log loss: 0.58, Majority class: 0.55 \n"
     ]
    }
   ],
   "source": [
    "X_test = X_test.drop( ['pitch_type','outcome', 'umpcall', \"descr\", 'pitcher' ], axis = 1) \n",
    "X_test = X_test.fillna(0)\n",
    "probs=baseline.predict_proba(X_test)[:,1]\n",
    "preds=baseline.predict(X_test)\n",
    "baseline_loss=sklearn.metrics.log_loss(y_test,probs)\n",
    "baseline_acc=sklearn.metrics.accuracy_score(y_test,preds)\n",
    "majority_class=np.amax(y_test.value_counts(normalize=True))\n",
    "\n",
    "print('%s: %0.2f, %s: %0.2f, %s: %0.2f '\n",
    "      %('Baseline accuracy',baseline_acc,'Baseline log loss', baseline_loss,'Majority class',majority_class))"
   ]
  },
  {
   "cell_type": "markdown",
   "metadata": {
    "collapsed": true
   },
   "source": [
    "## Lasso"
   ]
  },
  {
   "cell_type": "code",
   "execution_count": 45,
   "metadata": {
    "collapsed": false
   },
   "outputs": [
    {
     "data": {
      "text/plain": [
       "LogisticRegression(C=0.1, class_weight=None, dual=False, fit_intercept=True,\n",
       "          intercept_scaling=1, max_iter=100, multi_class='ovr', n_jobs=1,\n",
       "          penalty='l1', random_state=None, solver='liblinear', tol=0.0001,\n",
       "          verbose=0, warm_start=False)"
      ]
     },
     "execution_count": 45,
     "metadata": {},
     "output_type": "execute_result"
    }
   ],
   "source": [
    "from sklearn import linear_model\n",
    "lasso = LogisticRegression(C= 0.1, penalty = 'l1')\n",
    "lasso.fit(X_train, y_train)"
   ]
  },
  {
   "cell_type": "code",
   "execution_count": 46,
   "metadata": {
    "collapsed": false
   },
   "outputs": [
    {
     "name": "stdout",
     "output_type": "stream",
     "text": [
      "0.706863516492\n"
     ]
    }
   ],
   "source": [
    "preds=lasso.predict(X_test)\n",
    "lasso_acc=sklearn.metrics.accuracy_score(y_test,preds)\n",
    "print(lasso_acc)"
   ]
  },
  {
   "cell_type": "code",
   "execution_count": 53,
   "metadata": {
    "collapsed": false
   },
   "outputs": [
    {
     "name": "stdout",
     "output_type": "stream",
     "text": [
      "start_speed: -0.0131787237949\n",
      "pfx_x: -0.00512969792498\n",
      "pfx_z: -0.00684345418147\n",
      "px: 0.0705397488458\n",
      "pz: -0.216865983124\n",
      "break_y: 0.0719891476612\n",
      "break_angle: -0.00155898050208\n",
      "break_length: -0.0205046642726\n",
      "spin_dir: -3.05994721999e-05\n",
      "nasty: 0.0225556656452\n",
      "pitch_count: -0.000494240290677\n",
      "zone: -0.28314071516\n",
      "strikes: 0.164662844142\n",
      "balls: 0.164999909588\n"
     ]
    }
   ],
   "source": [
    "for i in range(14):\n",
    "    print(X_train.columns[i] + ': ' + str(lasso.coef_[0][i]))\n"
   ]
  },
  {
   "cell_type": "markdown",
   "metadata": {},
   "source": [
    "## Decision Trees"
   ]
  },
  {
   "cell_type": "code",
   "execution_count": null,
   "metadata": {
    "collapsed": true
   },
   "outputs": [],
   "source": [
    "# differnt models one for ball one for direction"
   ]
  }
 ],
 "metadata": {
  "kernelspec": {
   "display_name": "Python 2",
   "language": "python",
   "name": "python2"
  },
  "language_info": {
   "codemirror_mode": {
    "name": "ipython",
    "version": 2
   },
   "file_extension": ".py",
   "mimetype": "text/x-python",
   "name": "python",
   "nbconvert_exporter": "python",
   "pygments_lexer": "ipython2",
   "version": "2.7.13"
  }
 },
 "nbformat": 4,
 "nbformat_minor": 2
}
