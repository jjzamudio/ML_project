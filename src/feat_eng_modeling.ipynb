{
 "cells": [
  {
   "cell_type": "code",
   "execution_count": 1,
   "metadata": {
    "collapsed": true
   },
   "outputs": [],
   "source": [
    "import pandas as pd\n",
    "import numpy as np\n",
    "import matplotlib.pyplot as plt\n",
    "%matplotlib inline\n",
    "\n",
    "import datetime\n",
    "\n",
    "from sklearn.linear_model import LogisticRegression\n",
    "from sklearn.ensemble import RandomForestClassifier\n",
    "\n",
    "from sklearn.pipeline import Pipeline\n",
    "from sklearn.preprocessing import StandardScaler, PolynomialFeatures,OneHotEncoder\n",
    "import sklearn.metrics\n",
    "\n",
    "from sklearn.model_selection import GridSearchCV, TimeSeriesSplit"
   ]
  },
  {
   "cell_type": "code",
   "execution_count": 2,
   "metadata": {
    "collapsed": true
   },
   "outputs": [],
   "source": [
    "folder_dir = '../data/'\n",
    "data_path = \"data_clean.csv\"\n",
    "data = pd.read_csv(filepath_or_buffer= folder_dir + data_path, header=0)\n",
    "data=data.drop('Unnamed: 0',axis=1)\n",
    "\n",
    "#=data.head(500)"
   ]
  },
  {
   "cell_type": "code",
   "execution_count": 3,
   "metadata": {},
   "outputs": [
    {
     "data": {
      "text/plain": [
       "(3878118, 25)"
      ]
     },
     "execution_count": 3,
     "metadata": {},
     "output_type": "execute_result"
    }
   ],
   "source": [
    "data.shape"
   ]
  },
  {
   "cell_type": "code",
   "execution_count": 35,
   "metadata": {},
   "outputs": [
    {
     "data": {
      "text/plain": [
       "outcome    True\n",
       "nasty      True\n",
       "dtype: bool"
      ]
     },
     "execution_count": 35,
     "metadata": {},
     "output_type": "execute_result"
    }
   ],
   "source": [
    "data.isnull().any()[data.isnull().any()]"
   ]
  },
  {
   "cell_type": "code",
   "execution_count": 4,
   "metadata": {},
   "outputs": [
    {
     "data": {
      "text/plain": [
       "Index(['date', 'umpcall', 'outcome', 'start_speed', 'pfx_x', 'pfx_z', 'px',\n",
       "       'pz', 'break_y', 'break_angle', 'break_length', 'pitch_type',\n",
       "       'spin_dir', 'nasty', 'pitch_count', 'descr', 'y', 'year', 'zone',\n",
       "       'strikes', 'balls', 'pitcher', 'pitch_type.1', 'rolling_start_speed',\n",
       "       'long_rolling_start_speed'],\n",
       "      dtype='object')"
      ]
     },
     "execution_count": 4,
     "metadata": {},
     "output_type": "execute_result"
    }
   ],
   "source": [
    "### Create features\n",
    "data.columns"
   ]
  },
  {
   "cell_type": "markdown",
   "metadata": {},
   "source": [
    "## Train, test, validation split"
   ]
  },
  {
   "cell_type": "code",
   "execution_count": 5,
   "metadata": {
    "collapsed": true
   },
   "outputs": [],
   "source": [
    "model_feats=['px','pz','pfx_x','pfx_z','start_speed','spin_dir','pitch_count','balls','strikes','date',\n",
    "             'y','rolling_start_speed']\n",
    "\n",
    "model_feats=['px','pz','pfx_x','pfx_z','start_speed','spin_dir','pitch_count','balls','strikes','date',\n",
    "             'y','rolling_start_speed','long_rolling_start_speed']\n",
    "#y=data['y']\n",
    "data=data[model_feats]"
   ]
  },
  {
   "cell_type": "code",
   "execution_count": 6,
   "metadata": {
    "collapsed": true
   },
   "outputs": [],
   "source": [
    "data[\"date\"] = pd.to_datetime(data[\"date\"])\n",
    "\n",
    "start = data[\"date\"].searchsorted(datetime.datetime(2012, 1, 1))[0]\n",
    "#start\n",
    "end = data[\"date\"].searchsorted(datetime.datetime(2017, 1, 1))[0] - 1\n",
    "#end\n",
    "\n",
    "X_train = data[model_feats].loc[start:end]\n",
    "y_train=X_train['y']\n",
    "X_train=X_train.drop(['y','date'],axis=1)\n",
    "\n",
    "X_test=data[model_feats][end:]\n",
    "y_test=X_test['y']\n",
    "X_test=X_test.drop(['y','date'],axis=1)\n",
    "data=0"
   ]
  },
  {
   "cell_type": "markdown",
   "metadata": {
    "collapsed": true
   },
   "source": [
    "### Random Forest"
   ]
  },
  {
   "cell_type": "code",
   "execution_count": 39,
   "metadata": {
    "collapsed": true
   },
   "outputs": [],
   "source": [
    "steps= [('rf', RandomForestClassifier(oob_score=True))]\n",
    "\n",
    "mypipeline= Pipeline(steps)\n",
    "\n",
    "param_grid_rf = dict(\n",
    "    #rf__min_samples_leaf= np.logspace(4, 5, num=5, base=4, endpoint=False, dtype=int),\n",
    "    #rf__min_samples_split= [100, 1000],\n",
    "    rf__max_depth= [7],\n",
    "    rf__n_estimators=[50]\n",
    "      )"
   ]
  },
  {
   "cell_type": "code",
   "execution_count": 40,
   "metadata": {},
   "outputs": [
    {
     "data": {
      "text/plain": [
       "GridSearchCV(cv=None, error_score='raise',\n",
       "       estimator=Pipeline(memory=None,\n",
       "     steps=[('rf', RandomForestClassifier(bootstrap=True, class_weight=None, criterion='gini',\n",
       "            max_depth=None, max_features='auto', max_leaf_nodes=None,\n",
       "            min_impurity_decrease=0.0, min_impurity_split=None,\n",
       "            min_samples_leaf=1, min_samples_split=2,\n",
       "            min_weight_fraction_leaf=0.0, n_estimators=10, n_jobs=1,\n",
       "            oob_score=True, random_state=None, verbose=0, warm_start=False))]),\n",
       "       fit_params=None, iid=True, n_jobs=-1,\n",
       "       param_grid={'rf__max_depth': [7], 'rf__n_estimators': [50]},\n",
       "       pre_dispatch='2*n_jobs', refit=True, return_train_score='warn',\n",
       "       scoring='neg_log_loss', verbose=0)"
      ]
     },
     "execution_count": 40,
     "metadata": {},
     "output_type": "execute_result"
    }
   ],
   "source": [
    "rf_grid_search= GridSearchCV(mypipeline, \n",
    "                             param_grid = param_grid_rf, \n",
    "                             scoring = 'neg_log_loss',\n",
    "                                    n_jobs=-1, refit=True)\n",
    "\n",
    "rf_grid_search.fit(X_train, y_train)"
   ]
  },
  {
   "cell_type": "code",
   "execution_count": 41,
   "metadata": {},
   "outputs": [
    {
     "name": "stdout",
     "output_type": "stream",
     "text": [
      "-0.520574641936\n",
      "RandomForestClassifier(bootstrap=True, class_weight=None, criterion='gini',\n",
      "            max_depth=7, max_features='auto', max_leaf_nodes=None,\n",
      "            min_impurity_decrease=0.0, min_impurity_split=None,\n",
      "            min_samples_leaf=1, min_samples_split=2,\n",
      "            min_weight_fraction_leaf=0.0, n_estimators=50, n_jobs=1,\n",
      "            oob_score=True, random_state=None, verbose=0, warm_start=False)\n"
     ]
    }
   ],
   "source": [
    "best_1 = rf_grid_search.best_score_\n",
    "print(best_1)\n",
    "rf_grid_search.best_estimator_\n",
    "model=rf_grid_search.best_estimator_.steps[0][1]\n",
    "print(model)"
   ]
  },
  {
   "cell_type": "code",
   "execution_count": 42,
   "metadata": {},
   "outputs": [
    {
     "name": "stdout",
     "output_type": "stream",
     "text": [
      "Model accuracy: 0.78, Model log loss: 0.51, Majority class: 0.56 \n"
     ]
    }
   ],
   "source": [
    "probs=model.predict_proba(X_test)[:,1]\n",
    "preds=model.predict(X_test)\n",
    "baseline_loss=sklearn.metrics.log_loss(y_test,probs)\n",
    "baseline_acc=sklearn.metrics.accuracy_score(y_test,preds)\n",
    "majority_class=np.amax(y_test.value_counts(normalize=True))\n",
    "\n",
    "print('%s: %0.2f, %s: %0.2f, %s: %0.2f '\n",
    "      %('Model accuracy',baseline_acc,'Model log loss', baseline_loss,'Majority class',majority_class))"
   ]
  },
  {
   "cell_type": "code",
   "execution_count": 43,
   "metadata": {},
   "outputs": [
    {
     "data": {
      "image/png": "[encoded data removed]",
      "text/plain": [
       "<matplotlib.figure.Figure at 0x28f8afc2160>"
      ]
     },
     "metadata": {},
     "output_type": "display_data"
    }
   ],
   "source": [
    "# RF Feature Importances\n",
    "importances = model.feature_importances_\n",
    "indices = np.argsort(importances)[::-1]\n",
    "\n",
    "# Plot the feature importances\n",
    "fig = plt.figure(figsize=(20,8))\n",
    "plt.bar(range(len(indices)), importances[indices], color=\"r\", align=\"center\")\n",
    "plt.title('Feature Importances Bar Plot')\n",
    "plt.xlabel('Feature Name')\n",
    "plt.ylabel('Feature Importance')\n",
    "plt.xticks(range(len(indices)), X_train.columns[indices], rotation=45, horizontalalignment='right')\n",
    "plt.xlim([-1, len(indices)])\n",
    "plt.title('Feature Importance Graph for RF')\n",
    "plt.show()"
   ]
  },
  {
   "cell_type": "code",
   "execution_count": 44,
   "metadata": {},
   "outputs": [
    {
     "ename": "SyntaxError",
     "evalue": "invalid syntax (<ipython-input-44-e26cd6df4ee3>, line 1)",
     "output_type": "error",
     "traceback": [
      "\u001b[1;36m  File \u001b[1;32m\"<ipython-input-44-e26cd6df4ee3>\"\u001b[1;36m, line \u001b[1;32m1\u001b[0m\n\u001b[1;33m    STOP=\u001b[0m\n\u001b[1;37m         ^\u001b[0m\n\u001b[1;31mSyntaxError\u001b[0m\u001b[1;31m:\u001b[0m invalid syntax\n"
     ]
    }
   ],
   "source": [
    "STOP="
   ]
  },
  {
   "cell_type": "code",
   "execution_count": null,
   "metadata": {
    "collapsed": true
   },
   "outputs": [],
   "source": [
    "#Get class probabilities\n",
    "#probabilities_rf = model.predict_proba(X_test)\n",
    "#print('\\rSaving class probabilities.', end='\\r')\n",
    "#np.savetxt(folder_dir + 'probabilities_rf.txt', probabilities_rf, delimiter=',', newline='\\n')"
   ]
  },
  {
   "cell_type": "code",
   "execution_count": null,
   "metadata": {
    "collapsed": true
   },
   "outputs": [],
   "source": []
  },
  {
   "cell_type": "markdown",
   "metadata": {},
   "source": [
    "## Logistic Regression"
   ]
  },
  {
   "cell_type": "code",
   "execution_count": null,
   "metadata": {
    "collapsed": true
   },
   "outputs": [],
   "source": [
    "#Create pipeline\n",
    "my_cv = TimeSeriesSplit(n_splits=3).split(X_train)\n",
    "steps= [('polyfeat', PolynomialFeatures()),\n",
    "         ('scaler', StandardScaler()),\n",
    "         ('lr', LogisticRegression())]\n",
    "\n",
    "mypipeline= Pipeline(steps)\n",
    "parameters = dict(lr__C = [10**i for i in range(-5, 5)],\n",
    "                  lr__penalty = ['l1', 'l2'])"
   ]
  },
  {
   "cell_type": "code",
   "execution_count": null,
   "metadata": {
    "collapsed": true
   },
   "outputs": [],
   "source": [
    "lr_grid_search= GridSearchCV(mypipeline, \n",
    "                             param_grid = parameters,  \n",
    "                             scoring = 'log_loss',\n",
    "                             n_jobs=-1, \n",
    "                             refit=True,\n",
    "                             cv = my_cv)\n",
    "\n",
    "lr_grid_search.fit(X_train, y_train)"
   ]
  },
  {
   "cell_type": "code",
   "execution_count": null,
   "metadata": {
    "collapsed": true
   },
   "outputs": [],
   "source": [
    "best_1 = lr_grid_search.best_score_\n",
    "print(best_1)\n",
    "lr_grid_search.best_estimator_\n",
    "model=lr_grid_search.best_estimator_.steps[2][1]\n",
    "print(model)"
   ]
  },
  {
   "cell_type": "code",
   "execution_count": null,
   "metadata": {
    "collapsed": true
   },
   "outputs": [],
   "source": [
    "model=lr_grid_search.best_estimator_.steps[2][1]"
   ]
  },
  {
   "cell_type": "code",
   "execution_count": null,
   "metadata": {
    "collapsed": true
   },
   "outputs": [],
   "source": [
    "probs=model.predict_proba(X_test)[:,1]\n",
    "preds=model.predict(X_test)\n",
    "baseline_loss=sklearn.metrics.log_loss(y_test,probs)\n",
    "baseline_acc=sklearn.metrics.accuracy_score(y_test,preds)\n",
    "majority_class=np.amax(y_test.value_counts(normalize=True))\n",
    "\n",
    "print('%s: %0.2f, %s: %0.2f, %s: %0.2f '\n",
    "      %('Model accuracy',baseline_acc,'Model log loss', baseline_loss,'Majority class',majority_class))"
   ]
  },
  {
   "cell_type": "code",
   "execution_count": null,
   "metadata": {
    "collapsed": true
   },
   "outputs": [],
   "source": [
    "probabilities_lr=model.predict_proba(X_test)[:,1]\n",
    "np.savetxt'probabilities_lr.txt', probabilities_lr, delimiter=',', newline='\\n')"
   ]
  },
  {
   "cell_type": "code",
   "execution_count": null,
   "metadata": {
    "collapsed": true
   },
   "outputs": [],
   "source": [
    "coef_dict = {}\n",
    "for coef, feat in zip(model.coef_[0],X_train.columns.tolist()):\n",
    "    coef_dict[feat] = coef\n",
    "coef_dict"
   ]
  },
  {
   "cell_type": "code",
   "execution_count": null,
   "metadata": {
    "collapsed": true
   },
   "outputs": [],
   "source": [
    "stop="
   ]
  },
  {
   "cell_type": "markdown",
   "metadata": {},
   "source": [
    "## XGBoost"
   ]
  },
  {
   "cell_type": "code",
   "execution_count": 10,
   "metadata": {},
   "outputs": [
    {
     "name": "stderr",
     "output_type": "stream",
     "text": [
      "/Users/atakanokan/anaconda/lib/python3.6/site-packages/sklearn/cross_validation.py:41: DeprecationWarning: This module was deprecated in version 0.18 in favor of the model_selection module into which all the refactored classes and functions are moved. Also note that the interface of the new CV iterators are different from that of this module. This module will be removed in 0.20.\n",
      "  \"This module will be removed in 0.20.\", DeprecationWarning)\n"
     ]
    },
    {
     "name": "stdout",
     "output_type": "stream",
     "text": [
      "0.782464286982\n"
     ]
    },
    {
     "data": {
      "text/plain": [
       "<matplotlib.axes._subplots.AxesSubplot at 0x1a1fc81a20>"
      ]
     },
     "execution_count": 10,
     "metadata": {},
     "output_type": "execute_result"
    },
    {
     "data": {
      "image/png": "[encoded data removed]",
      "text/plain": [
       "<matplotlib.figure.Figure at 0x1a4da2c2b0>"
      ]
     },
     "metadata": {},
     "output_type": "display_data"
    }
   ],
   "source": [
    "from numpy import loadtxt\n",
    "from xgboost import XGBClassifier\n",
    "# from sklearn.model_selection import train_test_split\n",
    "# from sklearn.metrics import accuracy_score\n",
    "\n",
    "# fit model no training data\n",
    "param = {'max_depth':2, 'eta':1, 'silent':1, 'objective':'binary:logistic' }\n",
    "model = XGBClassifier()\n",
    "model.fit(X_train, y_train)\n",
    "\n",
    "# evaluate predictions\n",
    "# make predictions for test data\n",
    "y_pred = model.predict(X_test)\n",
    "predictions = [round(value) for value in y_pred]\n",
    "xgb_acc=sklearn.metrics.accuracy_score(y_test,predictions)\n",
    "\n",
    "print(xgb_acc)\n",
    "\n",
    "import xgboost\n",
    "xgboost.plot_importance(model)"
   ]
  },
  {
   "cell_type": "code",
   "execution_count": 13,
   "metadata": {},
   "outputs": [
    {
     "name": "stderr",
     "output_type": "stream",
     "text": [
      "/Users/atakanokan/anaconda/lib/python3.6/site-packages/sklearn/model_selection/_search.py:761: DeprecationWarning: The grid_scores_ attribute was deprecated in version 0.18 in favor of the more elaborate cv_results_ attribute. The grid_scores_ attribute will not be available from 0.20\n",
      "  DeprecationWarning)\n"
     ]
    },
    {
     "data": {
      "text/plain": [
       "([mean: 0.84156, std: 0.00153, params: {'max_depth': 4, 'min_child_weight': 4},\n",
       "  mean: 0.84168, std: 0.00142, params: {'max_depth': 4, 'min_child_weight': 5},\n",
       "  mean: 0.84159, std: 0.00146, params: {'max_depth': 4, 'min_child_weight': 6},\n",
       "  mean: 0.84437, std: 0.00147, params: {'max_depth': 5, 'min_child_weight': 4},\n",
       "  mean: 0.84428, std: 0.00145, params: {'max_depth': 5, 'min_child_weight': 5},\n",
       "  mean: 0.84433, std: 0.00145, params: {'max_depth': 5, 'min_child_weight': 6},\n",
       "  mean: 0.84569, std: 0.00159, params: {'max_depth': 6, 'min_child_weight': 4},\n",
       "  mean: 0.84574, std: 0.00149, params: {'max_depth': 6, 'min_child_weight': 5},\n",
       "  mean: 0.84565, std: 0.00145, params: {'max_depth': 6, 'min_child_weight': 6}],\n",
       " {'max_depth': 6, 'min_child_weight': 5},\n",
       " 0.84573547851392805)"
      ]
     },
     "execution_count": 13,
     "metadata": {},
     "output_type": "execute_result"
    }
   ],
   "source": [
    "param = {\n",
    " 'max_depth':[4,5,6],\n",
    " 'min_child_weight':[4,5,6]\n",
    "}\n",
    "gsearch1 = GridSearchCV(estimator = model, \n",
    "                        param_grid = param, \n",
    "                        scoring='roc_auc',\n",
    "                        #n_jobs=4,\n",
    "                        iid=False, \n",
    "                        cv=5)\n",
    "gsearch1.fit(X_train,y_train)\n",
    "gsearch1.grid_scores_, "
   ]
  },
  {
   "cell_type": "code",
   "execution_count": 14,
   "metadata": {},
   "outputs": [
    {
     "name": "stdout",
     "output_type": "stream",
     "text": [
      "Best parameters = {'max_depth': 6, 'min_child_weight': 5}\n",
      "Best score = 0.845735478514\n"
     ]
    }
   ],
   "source": [
    "print(\"Best parameters = \" + str(gsearch1.best_params_))\n",
    "print(\"Best score = \" + str(gsearch1.best_score_))"
   ]
  },
  {
   "cell_type": "code",
   "execution_count": 18,
   "metadata": {
    "collapsed": true
   },
   "outputs": [],
   "source": [
    "my_cv = TimeSeriesSplit(n_splits=3).split(X_train)"
   ]
  },
  {
   "cell_type": "code",
   "execution_count": 19,
   "metadata": {},
   "outputs": [
    {
     "name": "stderr",
     "output_type": "stream",
     "text": [
      "/Users/atakanokan/anaconda/lib/python3.6/site-packages/sklearn/model_selection/_search.py:761: DeprecationWarning: The grid_scores_ attribute was deprecated in version 0.18 in favor of the more elaborate cv_results_ attribute. The grid_scores_ attribute will not be available from 0.20\n",
      "  DeprecationWarning)\n"
     ]
    },
    {
     "data": {
      "text/plain": [
       "([mean: -0.47473, std: 0.00270, params: {'max_depth': 4, 'min_child_weight': 4},\n",
       "  mean: -0.47477, std: 0.00258, params: {'max_depth': 4, 'min_child_weight': 6},\n",
       "  mean: -0.46871, std: 0.00194, params: {'max_depth': 6, 'min_child_weight': 4},\n",
       "  mean: -0.46848, std: 0.00203, params: {'max_depth': 6, 'min_child_weight': 6}],)"
      ]
     },
     "execution_count": 19,
     "metadata": {},
     "output_type": "execute_result"
    }
   ],
   "source": [
    "param = {\n",
    " 'max_depth':[4,6],\n",
    " 'min_child_weight':[4,6]\n",
    "}\n",
    "\n",
    "gsearch1 = GridSearchCV(estimator = model, \n",
    "                        param_grid = param, \n",
    "                        scoring='neg_log_loss',\n",
    "                        #n_jobs=4,\n",
    "                        iid=False, \n",
    "                        cv=my_cv)\n",
    "gsearch1.fit(X_train,y_train)\n",
    "gsearch1.grid_scores_"
   ]
  },
  {
   "cell_type": "code",
   "execution_count": 20,
   "metadata": {},
   "outputs": [
    {
     "name": "stdout",
     "output_type": "stream",
     "text": [
      "Best parameters = {'max_depth': 6, 'min_child_weight': 6}\n",
      "Best score = -0.468475527781\n"
     ]
    }
   ],
   "source": [
    "print(\"Best parameters = \" + str(gsearch1.best_params_))\n",
    "print(\"Best score = \" + str(gsearch1.best_score_))"
   ]
  },
  {
   "cell_type": "code",
   "execution_count": 27,
   "metadata": {},
   "outputs": [
    {
     "name": "stdout",
     "output_type": "stream",
     "text": [
      "Best parameters = {'max_depth': 6, 'min_child_weight': 6}\n",
      "Best score = -0.468475527781\n"
     ]
    },
    {
     "name": "stderr",
     "output_type": "stream",
     "text": [
      "/Users/atakanokan/anaconda/lib/python3.6/site-packages/sklearn/model_selection/_search.py:761: DeprecationWarning: The grid_scores_ attribute was deprecated in version 0.18 in favor of the more elaborate cv_results_ attribute. The grid_scores_ attribute will not be available from 0.20\n",
      "  DeprecationWarning)\n"
     ]
    }
   ],
   "source": [
    "my_cv = TimeSeriesSplit(n_splits=3).split(X_train)\n",
    "\n",
    "param = {\n",
    " 'max_depth':[4,6],\n",
    " 'min_child_weight':[4,6]\n",
    "}\n",
    "\n",
    "gsearch2 = GridSearchCV(estimator = model, \n",
    "                        param_grid = param, \n",
    "                        scoring='neg_log_loss',\n",
    "                        #n_jobs=4,\n",
    "                        iid=False, \n",
    "                        cv=my_cv)\n",
    "gsearch2.fit(X_train,y_train)\n",
    "gsearch2.grid_scores_ \n",
    "\n",
    "print(\"Best parameters = \" + str(gsearch2.best_params_))\n",
    "print(\"Best score = \" + str(gsearch2.best_score_))"
   ]
  },
  {
   "cell_type": "code",
   "execution_count": 29,
   "metadata": {},
   "outputs": [
    {
     "data": {
      "text/plain": [
       "XGBClassifier(base_score=0.5, colsample_bylevel=1, colsample_bytree=1,\n",
       "       gamma=0, learning_rate=0.1, max_delta_step=0, max_depth=6,\n",
       "       min_child_weight=6, missing=None, n_estimators=100, nthread=-1,\n",
       "       objective='binary:logistic', reg_alpha=0, reg_lambda=1,\n",
       "       scale_pos_weight=1, seed=0, silent=True, subsample=1)"
      ]
     },
     "execution_count": 29,
     "metadata": {},
     "output_type": "execute_result"
    }
   ],
   "source": [
    "gsearch2.best_estimator_"
   ]
  },
  {
   "cell_type": "code",
   "execution_count": 31,
   "metadata": {},
   "outputs": [
    {
     "name": "stdout",
     "output_type": "stream",
     "text": [
      "XGBClassifier(base_score=0.5, colsample_bylevel=1, colsample_bytree=1,\n",
      "       gamma=0, learning_rate=0.1, max_delta_step=0, max_depth=6,\n",
      "       min_child_weight=6, missing=None, n_estimators=100, nthread=-1,\n",
      "       objective='binary:logistic', reg_alpha=0, reg_lambda=1,\n",
      "       scale_pos_weight=1, seed=0, silent=True, subsample=1)\n"
     ]
    }
   ],
   "source": [
    "model=gsearch2.best_estimator_\n",
    "print(model)"
   ]
  },
  {
   "cell_type": "code",
   "execution_count": 32,
   "metadata": {},
   "outputs": [
    {
     "name": "stdout",
     "output_type": "stream",
     "text": [
      "Model accuracy: 0.79, Model log loss: 0.47, Majority class: 0.56 \n"
     ]
    }
   ],
   "source": [
    "probs=model.predict_proba(X_test)[:,1]\n",
    "preds=model.predict(X_test)\n",
    "baseline_loss=sklearn.metrics.log_loss(y_test,probs)\n",
    "baseline_acc=sklearn.metrics.accuracy_score(y_test,preds)\n",
    "majority_class=np.amax(y_test.value_counts(normalize=True))\n",
    "\n",
    "print('%s: %0.2f, %s: %0.2f, %s: %0.2f '\n",
    "      %('Model accuracy',baseline_acc,'Model log loss', baseline_loss,\n",
    "        'Majority class',majority_class))"
   ]
  },
  {
   "cell_type": "code",
   "execution_count": 28,
   "metadata": {},
   "outputs": [
    {
     "name": "stdout",
     "output_type": "stream",
     "text": [
      "Best parameters = {'max_depth': 8, 'min_child_weight': 6}\n",
      "Best score = -0.466955890944\n"
     ]
    },
    {
     "name": "stderr",
     "output_type": "stream",
     "text": [
      "/Users/atakanokan/anaconda/lib/python3.6/site-packages/sklearn/model_selection/_search.py:761: DeprecationWarning: The grid_scores_ attribute was deprecated in version 0.18 in favor of the more elaborate cv_results_ attribute. The grid_scores_ attribute will not be available from 0.20\n",
      "  DeprecationWarning)\n"
     ]
    }
   ],
   "source": [
    "my_cv = TimeSeriesSplit(n_splits=3).split(X_train)\n",
    "\n",
    "param = {\n",
    " 'max_depth':[2,5,8],\n",
    " 'min_child_weight':[2,4,6]\n",
    "}\n",
    "\n",
    "gsearch3 = GridSearchCV(estimator = model, \n",
    "                        param_grid = param, \n",
    "                        scoring='neg_log_loss',\n",
    "                        #n_jobs=4,\n",
    "                        iid=False, \n",
    "                        cv=my_cv)\n",
    "gsearch3.fit(X_train,y_train)\n",
    "gsearch3.grid_scores_ \n",
    "\n",
    "print(\"Best parameters = \" + str(gsearch3.best_params_))\n",
    "print(\"Best score = \" + str(gsearch3.best_score_))"
   ]
  },
  {
   "cell_type": "code",
   "execution_count": 33,
   "metadata": {},
   "outputs": [
    {
     "name": "stdout",
     "output_type": "stream",
     "text": [
      "XGBClassifier(base_score=0.5, colsample_bylevel=1, colsample_bytree=1,\n",
      "       gamma=0, learning_rate=0.1, max_delta_step=0, max_depth=8,\n",
      "       min_child_weight=6, missing=None, n_estimators=100, nthread=-1,\n",
      "       objective='binary:logistic', reg_alpha=0, reg_lambda=1,\n",
      "       scale_pos_weight=1, seed=0, silent=True, subsample=1)\n"
     ]
    }
   ],
   "source": [
    "model=gsearch3.best_estimator_\n",
    "print(model)"
   ]
  },
  {
   "cell_type": "code",
   "execution_count": 34,
   "metadata": {},
   "outputs": [
    {
     "name": "stdout",
     "output_type": "stream",
     "text": [
      "Model accuracy: 0.79, Model log loss: 0.47, Majority class: 0.56 \n"
     ]
    }
   ],
   "source": [
    "probs=model.predict_proba(X_test)[:,1]\n",
    "preds=model.predict(X_test)\n",
    "baseline_loss=sklearn.metrics.log_loss(y_test,probs)\n",
    "baseline_acc=sklearn.metrics.accuracy_score(y_test,preds)\n",
    "majority_class=np.amax(y_test.value_counts(normalize=True))\n",
    "\n",
    "print('%s: %0.2f, %s: %0.2f, %s: %0.2f '\n",
    "      %('Model accuracy',baseline_acc,'Model log loss', baseline_loss,\n",
    "        'Majority class',majority_class))"
   ]
  },
  {
   "cell_type": "code",
   "execution_count": null,
   "metadata": {
    "collapsed": true
   },
   "outputs": [],
   "source": []
  }
 ],
 "metadata": {
  "kernelspec": {
   "display_name": "Python 3",
   "language": "python",
   "name": "python3"
  },
  "language_info": {
   "codemirror_mode": {
    "name": "ipython",
    "version": 3
   },
   "file_extension": ".py",
   "mimetype": "text/x-python",
   "name": "python",
   "nbconvert_exporter": "python",
   "pygments_lexer": "ipython3",
   "version": "3.6.1"
  }
 },
 "nbformat": 4,
 "nbformat_minor": 2
}
