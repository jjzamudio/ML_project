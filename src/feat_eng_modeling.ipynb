{
 "cells": [
  {
   "cell_type": "code",
   "execution_count": 1,
   "metadata": {
    "collapsed": true
   },
   "outputs": [],
   "source": [
    "import pandas as pd\n",
    "import numpy as np\n",
    "import matplotlib.pyplot as plt\n",
    "%matplotlib inline\n",
    "\n",
    "from sklearn.linear_model import LogisticRegression\n",
    "from sklearn.ensemble import RandomForestClassifier\n",
    "\n",
    "from sklearn.pipeline import Pipeline\n",
    "from sklearn.preprocessing import StandardScaler, PolynomialFeatures,OneHotEncoder\n",
    "\n",
    "from sklearn.model_selection import GridSearchCV, train_test_split, PredefinedSplit"
   ]
  },
  {
   "cell_type": "code",
   "execution_count": 2,
   "metadata": {
    "collapsed": true
   },
   "outputs": [],
   "source": [
    "folder_dir = '../data/'\n",
    "data_path = \"data_clean.csv\"\n",
    "data = pd.read_csv(filepath_or_buffer= folder_dir + data_path, header=0)\n",
    "data=data.drop('Unnamed: 0',axis=1)\n",
    "\n",
    "#=data.head(500)"
   ]
  },
  {
   "cell_type": "code",
   "execution_count": 3,
   "metadata": {},
   "outputs": [
    {
     "data": {
      "text/plain": [
       "(3902210, 22)"
      ]
     },
     "execution_count": 3,
     "metadata": {},
     "output_type": "execute_result"
    }
   ],
   "source": [
    "data.shape"
   ]
  },
  {
   "cell_type": "code",
   "execution_count": 4,
   "metadata": {},
   "outputs": [
    {
     "data": {
      "text/plain": [
       "outcome    True\n",
       "nasty      True\n",
       "pitcher    True\n",
       "dtype: bool"
      ]
     },
     "execution_count": 4,
     "metadata": {},
     "output_type": "execute_result"
    }
   ],
   "source": [
    "data.isnull().any()[data.isnull().any()]"
   ]
  },
  {
   "cell_type": "markdown",
   "metadata": {},
   "source": [
    "## Target feature"
   ]
  },
  {
   "cell_type": "code",
   "execution_count": 5,
   "metadata": {},
   "outputs": [
    {
     "data": {
      "image/png": "[encoded data removed]",
      "text/plain": [
       "<matplotlib.figure.Figure at 0x265044806a0>"
      ]
     },
     "metadata": {},
     "output_type": "display_data"
    }
   ],
   "source": [
    "#Using descr feature to define good pitch\n",
    "g_outcomes=['Foul Tip','Swinging Strike','In play, out(s)', 'Called Strike', 'Foul','Foul (Runner Going)','Foul Bunt',\n",
    "       'Swinging Strike (Blocked)', 'Missed Bunt' ]\n",
    "\n",
    "#Using outcome feature to use more detailed descriptions (eg: lineout vs groundout). I think this approach is better\n",
    "g_outcomes2=['Flyout', 'Fly Out','Groundout','Pop Out','Forceout','Double Play','Grounded into DP','Fielders Choice',\n",
    "             'Fielders Choice Out','Bunt Groundout','Bunt Pop Out','Sac Fly DP','Bunt Lineout','Foul']\n",
    "\n",
    "data['y']=np.where((data['outcome'].isin(g_outcomes2)) | (data['umpcall']=='S'),1,0)\n",
    "a=plt.hist(data['y'])"
   ]
  },
  {
   "cell_type": "markdown",
   "metadata": {},
   "source": [
    "### Generate batter-pitcher count\n",
    "##### https://twitter.com/darenw/status/985168614008508416 (cool image)"
   ]
  },
  {
   "cell_type": "code",
   "execution_count": 6,
   "metadata": {},
   "outputs": [
    {
     "data": {
      "image/png": "[encoded data removed]",
      "text/plain": [
       "<matplotlib.figure.Figure at 0x26509287438>"
      ]
     },
     "metadata": {},
     "output_type": "display_data"
    }
   ],
   "source": [
    "data['count_b_p']=np.where((data['strikes']>data['balls']),2,0)\n",
    "\n",
    "data['count_b_p']=np.where(((data['strikes']==0) & (data['balls']==0)),1,data['count_b_p'])\n",
    "data['count_b_p']=np.where(((data['strikes']==1) & (data['balls']==1)),1,data['count_b_p'])\n",
    "\n",
    "# 2-2 is a pitchers' count\n",
    "data['count_b_p']=np.where(((data['strikes']==2) & (data['balls']==2)),2,data['count_b_p'])\n",
    "plt.hist(data.count_b_p);"
   ]
  },
  {
   "cell_type": "markdown",
   "metadata": {},
   "source": [
    "### One-hot encode zone"
   ]
  },
  {
   "cell_type": "code",
   "execution_count": 7,
   "metadata": {},
   "outputs": [
    {
     "data": {
      "text/plain": [
       "array([ 9,  4, 11, 13,  6, 14,  5,  1,  2, 12,  7,  8,  3], dtype=int64)"
      ]
     },
     "execution_count": 7,
     "metadata": {},
     "output_type": "execute_result"
    }
   ],
   "source": [
    "data['zone'].unique()"
   ]
  },
  {
   "cell_type": "code",
   "execution_count": 8,
   "metadata": {
    "collapsed": true
   },
   "outputs": [],
   "source": [
    "zone=pd.get_dummies(data['zone'],prefix='zone').drop('zone_14',axis=1)\n",
    "data=pd.concat([data,zone],axis=1).drop('zone',axis=1)"
   ]
  },
  {
   "cell_type": "code",
   "execution_count": 9,
   "metadata": {},
   "outputs": [
    {
     "data": {
      "text/plain": [
       "Index(['umpcall', 'outcome', 'start_speed', 'pfx_x', 'pfx_z', 'px', 'pz',\n",
       "       'break_y', 'break_angle', 'break_length', 'pitch_type', 'spin_dir',\n",
       "       'nasty', 'pitch_count', 'descr', 'y', 'year', 'strikes', 'balls',\n",
       "       'pitcher', 'pitch_type.1', 'count_b_p', 'zone_1', 'zone_2', 'zone_3',\n",
       "       'zone_4', 'zone_5', 'zone_6', 'zone_7', 'zone_8', 'zone_9', 'zone_11',\n",
       "       'zone_12', 'zone_13'],\n",
       "      dtype='object')"
      ]
     },
     "execution_count": 9,
     "metadata": {},
     "output_type": "execute_result"
    }
   ],
   "source": [
    "### Create features\n",
    "data.columns"
   ]
  },
  {
   "cell_type": "markdown",
   "metadata": {},
   "source": [
    "## Train, test, validation split"
   ]
  },
  {
   "cell_type": "code",
   "execution_count": 10,
   "metadata": {
    "collapsed": true
   },
   "outputs": [],
   "source": [
    "model_feats=['px','pz','pfx_x','pfx_z','start_speed','spin_dir','pitch_count','count_b_p']\n",
    "y=data['y']\n",
    "data=data[model_feats]"
   ]
  },
  {
   "cell_type": "code",
   "execution_count": 11,
   "metadata": {
    "collapsed": true
   },
   "outputs": [],
   "source": [
    "X_train, X_test, y_train, y_test = train_test_split(data, y, test_size=0.2, random_state=1)\n",
    "\n",
    "#X_train, X_val, y_train, y_val = train_test_split(X_train, y_train, test_size=0.2, random_state=1)"
   ]
  },
  {
   "cell_type": "code",
   "execution_count": 12,
   "metadata": {
    "collapsed": true
   },
   "outputs": [],
   "source": [
    "#train_index=[-1]*(X_train.shape[0])\n",
    "#val_index=[0]*(X_val.shape[0])\n",
    "#ps=PredefinedSplit(test_fold=np.concatenate((train_index,val_index)))"
   ]
  },
  {
   "cell_type": "markdown",
   "metadata": {},
   "source": [
    "## Logistic Regression"
   ]
  },
  {
   "cell_type": "code",
   "execution_count": null,
   "metadata": {
    "collapsed": true
   },
   "outputs": [],
   "source": [
    "#Create pipeline\n",
    "steps= [('polyfeat', PolynomialFeatures()),\n",
    "         ('scaler', StandardScaler()),\n",
    "         ('lr', LogisticRegression())]\n",
    "\n",
    "mypipeline= Pipeline(steps)\n",
    "parameters = dict(lr__C = [10**i for i in range(-2, 2)],\n",
    "                  lr__penalty = ['l1', 'l2'])"
   ]
  },
  {
   "cell_type": "code",
   "execution_count": null,
   "metadata": {
    "collapsed": true
   },
   "outputs": [],
   "source": [
    "lr_grid_search= GridSearchCV(mypipeline, \n",
    "                             param_grid = parameters,  \n",
    "                             scoring = 'log_loss',\n",
    "                             n_jobs=2, \n",
    "                             refit=True)\n",
    "\n",
    "lr_grid_search.fit(X_train, y_train)"
   ]
  },
  {
   "cell_type": "code",
   "execution_count": null,
   "metadata": {
    "collapsed": true
   },
   "outputs": [],
   "source": [
    "best_1 = lr_grid_search.best_score_\n",
    "print(best_1)\n",
    "lr_grid_search.best_estimator_\n",
    "model=lr_grid_search.best_estimator_.steps[2][1]\n",
    "print(model)"
   ]
  },
  {
   "cell_type": "code",
   "execution_count": null,
   "metadata": {
    "collapsed": true
   },
   "outputs": [],
   "source": [
    "model=lr_grid_search.best_estimator_.steps[2][1]"
   ]
  },
  {
   "cell_type": "code",
   "execution_count": null,
   "metadata": {
    "collapsed": true
   },
   "outputs": [],
   "source": [
    "coef_dict = {}\n",
    "for coef, feat in zip(model.coef_[0],X_train.columns.tolist()):\n",
    "    coef_dict[feat] = coef\n",
    "coef_dict"
   ]
  },
  {
   "cell_type": "code",
   "execution_count": null,
   "metadata": {
    "collapsed": true
   },
   "outputs": [],
   "source": [
    "STOP="
   ]
  },
  {
   "cell_type": "markdown",
   "metadata": {
    "collapsed": true
   },
   "source": [
    "### RANDOM FOREST"
   ]
  },
  {
   "cell_type": "code",
   "execution_count": null,
   "metadata": {
    "collapsed": true
   },
   "outputs": [],
   "source": [
    "steps= [('polyfeat', PolynomialFeatures()), ('scaler', StandardScaler()),('rf', RandomForestClassifier())]\n",
    "\n",
    "steps= [('rf', RandomForestClassifier())]\n",
    "\n",
    "mypipeline= Pipeline(steps)\n",
    "\n",
    "param_grid_rf = dict(\n",
    "    #rf__min_samples_leaf= np.logspace(4, 5, num=5, base=4, endpoint=False, dtype=int),\n",
    "    rf__min_samples_split= [100, 1000],\n",
    "    rf__max_depth= list(range(4,9,2)),\n",
    "    rf__n_estimators= list(range(200,500,100))\n",
    "      )"
   ]
  },
  {
   "cell_type": "code",
   "execution_count": null,
   "metadata": {
    "collapsed": true
   },
   "outputs": [],
   "source": [
    "rf_grid_search= GridSearchCV(mypipeline, \n",
    "                             param_grid = param_grid_rf, \n",
    "                             scoring = 'log_loss',\n",
    "                                    n_jobs=-1, refit=True)\n",
    "\n",
    "rf_grid_search.fit(X_train, y_train)"
   ]
  },
  {
   "cell_type": "code",
   "execution_count": null,
   "metadata": {
    "collapsed": true
   },
   "outputs": [],
   "source": [
    "best_1 = rf_grid_search.best_score_\n",
    "print(best_1)\n",
    "rf_grid_search.best_estimator_\n",
    "model=rf_grid_search.best_estimator_.steps[2][1]\n",
    "print(model)"
   ]
  },
  {
   "cell_type": "code",
   "execution_count": null,
   "metadata": {
    "collapsed": true
   },
   "outputs": [],
   "source": [
    "model=rf_grid_search.best_estimator_.steps[2][1]"
   ]
  },
  {
   "cell_type": "code",
   "execution_count": null,
   "metadata": {
    "collapsed": true
   },
   "outputs": [],
   "source": [
    "# RF Feature Importances\n",
    "importances = model.feature_importances_\n",
    "indices = np.argsort(importances)[::-1]\n",
    "\n",
    "# Plot the feature importances\n",
    "fig = plt.figure(figsize=(20,8))\n",
    "plt.bar(range(len(indices)), importances[indices], color=\"r\", align=\"center\")\n",
    "plt.title('Feature Importances Bar Plot')\n",
    "plt.xlabel('Feature Name')\n",
    "plt.ylabel('Feature Importance')\n",
    "plt.xticks(range(len(indices)), train_val.drop('Y', axis=1).columns[indices], rotation=45, horizontalalignment='right')\n",
    "plt.xlim([-1, len(indices)])\n",
    "plt.title('Feature Importance Graph for RF')\n",
    "plt.show()\n",
    "print('\\rSaving feature_importances barplot... ', end='')\n",
    "fig.savefig(rf_dir + 'feature_importances_rf.png')\n",
    "print('done.')"
   ]
  },
  {
   "cell_type": "code",
   "execution_count": null,
   "metadata": {
    "collapsed": true
   },
   "outputs": [],
   "source": []
  }
 ],
 "metadata": {
  "kernelspec": {
   "display_name": "Python 3",
   "language": "python",
   "name": "python3"
  },
  "language_info": {
   "codemirror_mode": {
    "name": "ipython",
    "version": 3
   },
   "file_extension": ".py",
   "mimetype": "text/x-python",
   "name": "python",
   "nbconvert_exporter": "python",
   "pygments_lexer": "ipython3",
   "version": "3.6.1"
  }
 },
 "nbformat": 4,
 "nbformat_minor": 2
}
